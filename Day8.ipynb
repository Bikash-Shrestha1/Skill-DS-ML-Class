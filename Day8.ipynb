{
 "cells": [
  {
   "cell_type": "markdown",
   "id": "72d2b20e-006a-46c4-8f59-d70912cc97c7",
   "metadata": {},
   "source": [
    "Day 8"
   ]
  },
  {
   "cell_type": "code",
   "execution_count": 2,
   "id": "1f7aeebd-2e18-4371-8e46-61276c172cdd",
   "metadata": {},
   "outputs": [
    {
     "name": "stdout",
     "output_type": "stream",
     "text": [
      "{1: 1, 2: 4, 3: 9, 4: 16}\n"
     ]
    }
   ],
   "source": [
    "#Usual Way\n",
    "sqr_dict ={}\n",
    "\n",
    "for num in range (1,5):\n",
    "    sqr_dict[num] = num**2\n",
    "print(sqr_dict)"
   ]
  },
  {
   "cell_type": "code",
   "execution_count": 3,
   "id": "33ae8e58-eee2-413e-b867-4cbd4eb801ca",
   "metadata": {},
   "outputs": [
    {
     "name": "stdout",
     "output_type": "stream",
     "text": [
      "{1: 1, 2: 4, 3: 9, 4: 16}\n"
     ]
    }
   ],
   "source": [
    "#Dict Comprehension\n",
    "\n",
    "sqr_dict = {num: num**2 for num in range(1, 5)}\n",
    "print(sqr_dict)"
   ]
  },
  {
   "cell_type": "code",
   "execution_count": 4,
   "id": "a5f128e1-5213-48a2-8b2a-e62b17321450",
   "metadata": {},
   "outputs": [
    {
     "name": "stdout",
     "output_type": "stream",
     "text": [
      "{2: 4, 4: 16, 6: 36, 8: 64}\n"
     ]
    }
   ],
   "source": [
    "sqr_dict = {num: num**2 for num in range(1, 10) if num%2==0}\n",
    "print(sqr_dict)"
   ]
  },
  {
   "cell_type": "markdown",
   "id": "e64004b9-6149-414b-8ebf-8385c9c081e8",
   "metadata": {},
   "source": [
    "Set Comprehension"
   ]
  },
  {
   "cell_type": "code",
   "execution_count": 5,
   "id": "702cfc07-f847-4251-a279-f2c4cba6ef12",
   "metadata": {},
   "outputs": [],
   "source": [
    "sq_odd = {num**2 for num in range (1,20) if num % 2 != 0}"
   ]
  },
  {
   "cell_type": "code",
   "execution_count": 6,
   "id": "d3940b33-bb2c-4e95-9475-996bb86c8533",
   "metadata": {},
   "outputs": [
    {
     "data": {
      "text/plain": [
       "{1, 9, 25, 49, 81, 121, 169, 225, 289, 361}"
      ]
     },
     "execution_count": 6,
     "metadata": {},
     "output_type": "execute_result"
    }
   ],
   "source": [
    "sq_odd"
   ]
  },
  {
   "cell_type": "code",
   "execution_count": 7,
   "id": "34a4a2bc-d239-4c5e-abb5-23ef1713c31f",
   "metadata": {},
   "outputs": [
    {
     "data": {
      "text/plain": [
       "['aa', 'ab', 'ac', 'ba', 'bb', 'bc', 'ca', 'cb', 'cc']"
      ]
     },
     "execution_count": 7,
     "metadata": {},
     "output_type": "execute_result"
    }
   ],
   "source": [
    "letters = ['a','b','c']\n",
    "pairs = [let1+let2 for let1 in letters for let2 in letters]\n",
    "pairs"
   ]
  },
  {
   "cell_type": "code",
   "execution_count": 9,
   "id": "494629ef-3a87-4b88-805c-bff94984698f",
   "metadata": {},
   "outputs": [
    {
     "data": {
      "text/plain": [
       "['cc', 'cb', 'ca', 'bc', 'bb', 'ba', 'ac', 'ab', 'aa']"
      ]
     },
     "execution_count": 9,
     "metadata": {},
     "output_type": "execute_result"
    }
   ],
   "source": [
    "letters = ['c','b','a']\n",
    "pairs = [let1+let2 for let1 in letters for let2 in letters]\n",
    "pairs"
   ]
  },
  {
   "cell_type": "code",
   "execution_count": 10,
   "id": "aa3e8820-db12-430f-a3f1-d1337e31ef6f",
   "metadata": {},
   "outputs": [
    {
     "data": {
      "text/plain": [
       "{'aa', 'ab', 'ac', 'ba', 'bb', 'bc', 'ca', 'cb', 'cc'}"
      ]
     },
     "execution_count": 10,
     "metadata": {},
     "output_type": "execute_result"
    }
   ],
   "source": [
    "letters = ['c','b','a']\n",
    "pairs = {let1+let2 for let1 in letters for let2 in letters}\n",
    "pairs"
   ]
  },
  {
   "cell_type": "markdown",
   "id": "3114013f-1008-4ded-b9c6-cb34c4dccc9e",
   "metadata": {},
   "source": [
    "write a python program that use set comprehension to creat a set of all unique vowels found in the following string \"set comprehensions can be nested\""
   ]
  },
  {
   "cell_type": "code",
   "execution_count": null,
   "id": "a0529d9d-c157-4c4d-ace3-1d2c26c85f0c",
   "metadata": {},
   "outputs": [],
   "source": []
  }
 ],
 "metadata": {
  "kernelspec": {
   "display_name": "Python 3 (ipykernel)",
   "language": "python",
   "name": "python3"
  },
  "language_info": {
   "codemirror_mode": {
    "name": "ipython",
    "version": 3
   },
   "file_extension": ".py",
   "mimetype": "text/x-python",
   "name": "python",
   "nbconvert_exporter": "python",
   "pygments_lexer": "ipython3",
   "version": "3.13.3"
  }
 },
 "nbformat": 4,
 "nbformat_minor": 5
}
