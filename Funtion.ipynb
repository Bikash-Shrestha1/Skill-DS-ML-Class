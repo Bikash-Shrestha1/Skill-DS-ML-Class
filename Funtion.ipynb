{
 "cells": [
  {
   "cell_type": "markdown",
   "id": "4514bdc1-88b9-4bc2-9f88-7f302e8a023e",
   "metadata": {},
   "source": [
    "Funtion"
   ]
  },
  {
   "cell_type": "code",
   "execution_count": 1,
   "id": "5c3ce3c8-9283-43fe-89f3-e3fcc0be93fe",
   "metadata": {},
   "outputs": [],
   "source": [
    "def calculate_sum (num1, num2):\n",
    "    result = num1 + num2\n",
    "    return result"
   ]
  },
  {
   "cell_type": "code",
   "execution_count": 3,
   "id": "833728c4-f32f-4371-a333-246cd0b4ba0f",
   "metadata": {},
   "outputs": [],
   "source": [
    "value =calculate_sum(4,6)"
   ]
  },
  {
   "cell_type": "code",
   "execution_count": 5,
   "id": "62e82a5d-6ac0-4675-a024-7470259b40f2",
   "metadata": {},
   "outputs": [
    {
     "data": {
      "text/plain": [
       "10"
      ]
     },
     "execution_count": 5,
     "metadata": {},
     "output_type": "execute_result"
    }
   ],
   "source": [
    "value"
   ]
  },
  {
   "cell_type": "code",
   "execution_count": 6,
   "id": "30e4de9c-6a28-4e36-841a-9c4fc4b36d67",
   "metadata": {},
   "outputs": [
    {
     "name": "stdout",
     "output_type": "stream",
     "text": [
      "4_5\n"
     ]
    }
   ],
   "source": [
    "print (4,5, sep = \"_\")\n"
   ]
  },
  {
   "cell_type": "code",
   "execution_count": 8,
   "id": "ff3c47aa-f78d-4d54-b103-40f761b56067",
   "metadata": {},
   "outputs": [
    {
     "name": "stdout",
     "output_type": "stream",
     "text": [
      "Hello-world,"
     ]
    }
   ],
   "source": [
    "print(\"Hello\",\"world\",sep=\"-\",end=\",\")"
   ]
  },
  {
   "cell_type": "code",
   "execution_count": 9,
   "id": "3b08b2c4-fd66-47f4-b4b3-31d80b6d9dc2",
   "metadata": {},
   "outputs": [
    {
     "data": {
      "text/plain": [
       "int"
      ]
     },
     "execution_count": 9,
     "metadata": {},
     "output_type": "execute_result"
    }
   ],
   "source": [
    "type(1)\n"
   ]
  },
  {
   "cell_type": "code",
   "execution_count": 10,
   "id": "d2d3a002-fc38-4f5a-853b-7c3f89d2afa2",
   "metadata": {},
   "outputs": [
    {
     "data": {
      "text/plain": [
       "dict"
      ]
     },
     "execution_count": 10,
     "metadata": {},
     "output_type": "execute_result"
    }
   ],
   "source": [
    "type({})"
   ]
  },
  {
   "cell_type": "code",
   "execution_count": 11,
   "id": "1549c57a-5bf7-4efa-a6cc-32b4297d62c3",
   "metadata": {},
   "outputs": [
    {
     "data": {
      "text/plain": [
       "builtin_function_or_method"
      ]
     },
     "execution_count": 11,
     "metadata": {},
     "output_type": "execute_result"
    }
   ],
   "source": [
    "type(sum)"
   ]
  },
  {
   "cell_type": "code",
   "execution_count": null,
   "id": "4650c6d4-7ee4-44f8-ad8b-479895d912d2",
   "metadata": {},
   "outputs": [],
   "source": []
  }
 ],
 "metadata": {
  "kernelspec": {
   "display_name": "Python 3 (ipykernel)",
   "language": "python",
   "name": "python3"
  },
  "language_info": {
   "codemirror_mode": {
    "name": "ipython",
    "version": 3
   },
   "file_extension": ".py",
   "mimetype": "text/x-python",
   "name": "python",
   "nbconvert_exporter": "python",
   "pygments_lexer": "ipython3",
   "version": "3.13.3"
  }
 },
 "nbformat": 4,
 "nbformat_minor": 5
}
