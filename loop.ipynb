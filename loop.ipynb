{
 "cells": [
  {
   "cell_type": "code",
   "execution_count": 1,
   "id": "40cde70a-14e7-49a8-b1b0-87e5f40fb3c4",
   "metadata": {},
   "outputs": [
    {
     "name": "stdout",
     "output_type": "stream",
     "text": [
      "0\n",
      "1\n",
      "2\n",
      "3\n",
      "4\n",
      "5\n"
     ]
    }
   ],
   "source": [
    "for i in range (10):\n",
    "    print(i)\n",
    "    if i==5:\n",
    "        break"
   ]
  },
  {
   "cell_type": "code",
   "execution_count": 2,
   "id": "b66633fb-978d-485f-96ba-1aa4fc01a1ca",
   "metadata": {},
   "outputs": [
    {
     "name": "stdout",
     "output_type": "stream",
     "text": [
      "0\n",
      "1\n",
      "2\n",
      "3\n",
      "4\n"
     ]
    }
   ],
   "source": [
    "i = 0\n",
    "\n",
    "while i < 10:\n",
    "    print(i)\n",
    "    i += 1\n",
    "\n",
    "    if i==5:\n",
    "        break\n",
    "    "
   ]
  },
  {
   "cell_type": "code",
   "execution_count": 6,
   "id": "ef18c970-f84d-4903-b9f4-8b5f0f55aa20",
   "metadata": {},
   "outputs": [
    {
     "name": "stdout",
     "output_type": "stream",
     "text": [
      "ram\n",
      "shyam\n",
      "sita\n"
     ]
    }
   ],
   "source": [
    "names = [\"ram\", \"shyam\", \"sita\"]\n",
    "for name in names:\n",
    "    print(name)"
   ]
  },
  {
   "cell_type": "code",
   "execution_count": 9,
   "id": "ff6d4100-262d-459b-95dc-a5165815d835",
   "metadata": {},
   "outputs": [
    {
     "name": "stdin",
     "output_type": "stream",
     "text": [
      "Enter the value of N:  2\n"
     ]
    },
    {
     "name": "stdout",
     "output_type": "stream",
     "text": [
      "The sum of the first 2 natural numbers is: 3\n"
     ]
    }
   ],
   "source": [
    "# Input: N natural numbers\n",
    "N = int(input(\"Enter the value of N: \"))\n",
    "\n",
    "# Initialize variables\n",
    "i = 1\n",
    "total_sum = 0\n",
    "\n",
    "# While loop to calculate sum\n",
    "while i <= N:\n",
    "    total_sum += i\n",
    "    i += 1\n",
    "\n",
    "# Display result\n",
    "print(\"The sum of the first\", N, \"natural numbers is:\", total_sum)"
   ]
  },
  {
   "cell_type": "code",
   "execution_count": 17,
   "id": "9c8a5bc1-0b22-4521-8667-0761d6b9b6cd",
   "metadata": {},
   "outputs": [
    {
     "name": "stdin",
     "output_type": "stream",
     "text": [
      "Enter the value of N:  5\n"
     ]
    },
    {
     "name": "stdout",
     "output_type": "stream",
     "text": [
      "The mul of the first 5 natural numbers is: 120\n"
     ]
    }
   ],
   "source": [
    "# Input: N natural numbers\n",
    "N = int(input(\"Enter the value of N: \"))\n",
    "\n",
    "# Initialize variables\n",
    "i = 1\n",
    "total_prod = 1\n",
    "\n",
    "# While loop to calculate sum\n",
    "while i <= N:\n",
    "    total_prod = total_prod *i\n",
    "    i += 1\n",
    "\n",
    "# Display result\n",
    "print(\"The mul of the first\", N, \"natural numbers is:\", total_prod)"
   ]
  },
  {
   "cell_type": "markdown",
   "id": "47fd6507-f583-4ae9-a33c-dcc043d8e0dc",
   "metadata": {},
   "source": [
    "comprehension"
   ]
  },
  {
   "cell_type": "markdown",
   "id": "68f0c1ce-921b-4e15-bebc-5c0586890983",
   "metadata": {},
   "source": [
    "count number of letters for each words in following sentence\n"
   ]
  },
  {
   "cell_type": "code",
   "execution_count": null,
   "id": "ee60d92e-e4e6-4410-88a2-ef9a7bebd1c8",
   "metadata": {},
   "outputs": [],
   "source": []
  }
 ],
 "metadata": {
  "kernelspec": {
   "display_name": "Python 3 (ipykernel)",
   "language": "python",
   "name": "python3"
  },
  "language_info": {
   "codemirror_mode": {
    "name": "ipython",
    "version": 3
   },
   "file_extension": ".py",
   "mimetype": "text/x-python",
   "name": "python",
   "nbconvert_exporter": "python",
   "pygments_lexer": "ipython3",
   "version": "3.13.3"
  }
 },
 "nbformat": 4,
 "nbformat_minor": 5
}
