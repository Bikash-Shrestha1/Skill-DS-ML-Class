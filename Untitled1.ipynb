{
 "cells": [
  {
   "cell_type": "code",
   "execution_count": 1,
   "id": "5c2c07f5-d8e4-45af-8ded-90924c83a1cf",
   "metadata": {},
   "outputs": [],
   "source": [
    "number = 12345"
   ]
  },
  {
   "cell_type": "code",
   "execution_count": 4,
   "id": "e83f16d6-87ca-4fb6-b8b5-cd34b380a7f9",
   "metadata": {},
   "outputs": [
    {
     "data": {
      "text/plain": [
       "int"
      ]
     },
     "execution_count": 4,
     "metadata": {},
     "output_type": "execute_result"
    }
   ],
   "source": [
    "type (number)"
   ]
  },
  {
   "cell_type": "code",
   "execution_count": 7,
   "id": "bf6567f1-7106-47d6-8f7b-3908b79148a9",
   "metadata": {},
   "outputs": [
    {
     "name": "stdout",
     "output_type": "stream",
     "text": [
      "12345\n"
     ]
    }
   ],
   "source": [
    "print (number)"
   ]
  },
  {
   "cell_type": "code",
   "execution_count": 9,
   "id": "9b412539-bdae-468c-b002-c4e12e03e958",
   "metadata": {},
   "outputs": [],
   "source": [
    "pie = 22/7"
   ]
  },
  {
   "cell_type": "code",
   "execution_count": 12,
   "id": "eb74209e-c37e-4997-a8e1-b0859d7fa241",
   "metadata": {},
   "outputs": [
    {
     "name": "stdout",
     "output_type": "stream",
     "text": [
      "3.142857142857143\n"
     ]
    }
   ],
   "source": [
    "print (pie)"
   ]
  },
  {
   "cell_type": "code",
   "execution_count": 15,
   "id": "1fc8ab28-af14-45e3-acc3-df43c7fb2171",
   "metadata": {},
   "outputs": [
    {
     "data": {
      "text/plain": [
       "float"
      ]
     },
     "execution_count": 15,
     "metadata": {},
     "output_type": "execute_result"
    }
   ],
   "source": [
    "type (pie)"
   ]
  },
  {
   "cell_type": "code",
   "execution_count": 16,
   "id": "3fad3445-a3cc-4ced-b2bd-b5674eb068b4",
   "metadata": {},
   "outputs": [
    {
     "name": "stdout",
     "output_type": "stream",
     "text": [
      "\f",
      "\n"
     ]
    }
   ],
   "source": [
    "clear"
   ]
  },
  {
   "cell_type": "code",
   "execution_count": 17,
   "id": "742fed8b-7b7b-4922-aacd-3aafa1f426ac",
   "metadata": {},
   "outputs": [],
   "source": [
    "vec = 6-3j"
   ]
  },
  {
   "cell_type": "code",
   "execution_count": 18,
   "id": "6f4c75d0-cdc9-4b74-9340-89af88e0fd84",
   "metadata": {},
   "outputs": [
    {
     "data": {
      "text/plain": [
       "complex"
      ]
     },
     "execution_count": 18,
     "metadata": {},
     "output_type": "execute_result"
    }
   ],
   "source": [
    "type ( vec)"
   ]
  },
  {
   "cell_type": "code",
   "execution_count": 20,
   "id": "1018b7c2-ef8f-44fd-9153-a671720ba9f2",
   "metadata": {},
   "outputs": [
    {
     "name": "stdout",
     "output_type": "stream",
     "text": [
      "(6-3j)\n"
     ]
    }
   ],
   "source": [
    "print (vec)"
   ]
  },
  {
   "cell_type": "code",
   "execution_count": 21,
   "id": "afa4b68f-82f8-4412-baff-5a65754627a0",
   "metadata": {},
   "outputs": [],
   "source": [
    "x=22\n",
    "y=55.6"
   ]
  },
  {
   "cell_type": "code",
   "execution_count": 22,
   "id": "1bacf369-3889-41c3-ad16-3970aae68117",
   "metadata": {},
   "outputs": [
    {
     "data": {
      "text/plain": [
       "77.6"
      ]
     },
     "execution_count": 22,
     "metadata": {},
     "output_type": "execute_result"
    }
   ],
   "source": [
    "x+y"
   ]
  },
  {
   "cell_type": "code",
   "execution_count": 23,
   "id": "35af9b61-6240-4995-abe1-2655f4d3c2bf",
   "metadata": {},
   "outputs": [
    {
     "data": {
      "text/plain": [
       "-33.6"
      ]
     },
     "execution_count": 23,
     "metadata": {},
     "output_type": "execute_result"
    }
   ],
   "source": [
    "x-y"
   ]
  },
  {
   "cell_type": "code",
   "execution_count": 24,
   "id": "32fc81eb-e253-47b3-a0d4-13d869834420",
   "metadata": {},
   "outputs": [
    {
     "data": {
      "text/plain": [
       "1223.2"
      ]
     },
     "execution_count": 24,
     "metadata": {},
     "output_type": "execute_result"
    }
   ],
   "source": [
    "x*y"
   ]
  },
  {
   "cell_type": "code",
   "execution_count": 25,
   "id": "f21141ec-3d32-4a59-a061-5fce3b331115",
   "metadata": {},
   "outputs": [
    {
     "data": {
      "text/plain": [
       "0.39568345323741005"
      ]
     },
     "execution_count": 25,
     "metadata": {},
     "output_type": "execute_result"
    }
   ],
   "source": [
    "x/y"
   ]
  },
  {
   "cell_type": "code",
   "execution_count": 26,
   "id": "e2107534-750a-436b-a61e-844c6bc8a8c6",
   "metadata": {},
   "outputs": [
    {
     "data": {
      "text/plain": [
       "22.0"
      ]
     },
     "execution_count": 26,
     "metadata": {},
     "output_type": "execute_result"
    }
   ],
   "source": [
    "x%y"
   ]
  },
  {
   "cell_type": "code",
   "execution_count": 27,
   "id": "cb7c4dfb-1adc-455e-9062-c3c40496addd",
   "metadata": {},
   "outputs": [
    {
     "data": {
      "text/plain": [
       "1"
      ]
     },
     "execution_count": 27,
     "metadata": {},
     "output_type": "execute_result"
    }
   ],
   "source": [
    "10%3"
   ]
  },
  {
   "cell_type": "code",
   "execution_count": 28,
   "id": "e1cfcb3a-6dff-44d5-8d89-6a10c481047f",
   "metadata": {},
   "outputs": [
    {
     "data": {
      "text/plain": [
       "100000"
      ]
     },
     "execution_count": 28,
     "metadata": {},
     "output_type": "execute_result"
    }
   ],
   "source": [
    "10**5"
   ]
  },
  {
   "cell_type": "code",
   "execution_count": 29,
   "id": "6ee604ed-9271-49d7-97bc-b2714af91703",
   "metadata": {},
   "outputs": [
    {
     "data": {
      "text/plain": [
       "3"
      ]
     },
     "execution_count": 29,
     "metadata": {},
     "output_type": "execute_result"
    }
   ],
   "source": [
    "10//3"
   ]
  },
  {
   "cell_type": "code",
   "execution_count": 31,
   "id": "22d37c16-ed30-4402-afde-c06489ab8bfe",
   "metadata": {},
   "outputs": [],
   "source": [
    "eulers = 0.577218"
   ]
  },
  {
   "cell_type": "code",
   "execution_count": 33,
   "id": "9993f9f4-fa6a-483e-b056-a9d64f03f1d4",
   "metadata": {},
   "outputs": [],
   "source": [
    "number = int(eulers)"
   ]
  },
  {
   "cell_type": "code",
   "execution_count": 34,
   "id": "22ff32d9-3b31-46c1-b8d1-e2a4bb544fe3",
   "metadata": {},
   "outputs": [
    {
     "data": {
      "text/plain": [
       "0"
      ]
     },
     "execution_count": 34,
     "metadata": {},
     "output_type": "execute_result"
    }
   ],
   "source": [
    "number"
   ]
  },
  {
   "cell_type": "code",
   "execution_count": 35,
   "id": "4c24d0c2-6b8c-4821-8a30-66a362b8e447",
   "metadata": {},
   "outputs": [],
   "source": [
    "whole = 99"
   ]
  },
  {
   "cell_type": "code",
   "execution_count": 36,
   "id": "07714404-c1ef-41c2-b513-b8c716b47e34",
   "metadata": {},
   "outputs": [
    {
     "data": {
      "text/plain": [
       "99.0"
      ]
     },
     "execution_count": 36,
     "metadata": {},
     "output_type": "execute_result"
    }
   ],
   "source": [
    "float(whole)"
   ]
  },
  {
   "cell_type": "code",
   "execution_count": 37,
   "id": "9c4cafb6-d64b-4cbd-b6f8-4f59030fc9c7",
   "metadata": {},
   "outputs": [
    {
     "data": {
      "text/plain": [
       "(334+66.7j)"
      ]
     },
     "execution_count": 37,
     "metadata": {},
     "output_type": "execute_result"
    }
   ],
   "source": [
    "complex(334,66.7)"
   ]
  },
  {
   "cell_type": "code",
   "execution_count": 39,
   "id": "3fd5713d-11d2-45ac-97a6-2aad09a4bb25",
   "metadata": {},
   "outputs": [],
   "source": [
    "num1 = 77\n",
    "num2 = 67"
   ]
  },
  {
   "cell_type": "code",
   "execution_count": 40,
   "id": "55e58d73-7734-4c1d-8f9c-1459a9b2bb02",
   "metadata": {},
   "outputs": [
    {
     "data": {
      "text/plain": [
       "False"
      ]
     },
     "execution_count": 40,
     "metadata": {},
     "output_type": "execute_result"
    }
   ],
   "source": [
    "num1 == num2"
   ]
  },
  {
   "cell_type": "code",
   "execution_count": 42,
   "id": "e9870bc0-40c3-43ae-8e16-76919f6712e8",
   "metadata": {},
   "outputs": [
    {
     "data": {
      "text/plain": [
       "True"
      ]
     },
     "execution_count": 42,
     "metadata": {},
     "output_type": "execute_result"
    }
   ],
   "source": [
    "num1 != num2"
   ]
  },
  {
   "cell_type": "code",
   "execution_count": 43,
   "id": "deefe68f-bbdf-43cb-bb08-b0984dea1ac7",
   "metadata": {},
   "outputs": [
    {
     "data": {
      "text/plain": [
       "True"
      ]
     },
     "execution_count": 43,
     "metadata": {},
     "output_type": "execute_result"
    }
   ],
   "source": [
    "num1 > num2"
   ]
  },
  {
   "cell_type": "code",
   "execution_count": 44,
   "id": "05caafff-6505-46fa-9e68-12ddad839bc8",
   "metadata": {},
   "outputs": [
    {
     "data": {
      "text/plain": [
       "False"
      ]
     },
     "execution_count": 44,
     "metadata": {},
     "output_type": "execute_result"
    }
   ],
   "source": [
    "num1 < num2"
   ]
  },
  {
   "cell_type": "code",
   "execution_count": 45,
   "id": "cc572698-4fc2-45cd-98b4-595d8d5d9a22",
   "metadata": {},
   "outputs": [
    {
     "data": {
      "text/plain": [
       "False"
      ]
     },
     "execution_count": 45,
     "metadata": {},
     "output_type": "execute_result"
    }
   ],
   "source": [
    "num1 <= num2"
   ]
  },
  {
   "cell_type": "code",
   "execution_count": 46,
   "id": "5e45c92d-e3ae-4a14-ade5-52c927c8870a",
   "metadata": {},
   "outputs": [
    {
     "data": {
      "text/plain": [
       "True"
      ]
     },
     "execution_count": 46,
     "metadata": {},
     "output_type": "execute_result"
    }
   ],
   "source": [
    "num1 >= num2"
   ]
  },
  {
   "cell_type": "code",
   "execution_count": 57,
   "id": "cb93433d-7f86-4ad5-a643-e85790334af7",
   "metadata": {},
   "outputs": [],
   "source": [
    "import math"
   ]
  },
  {
   "cell_type": "code",
   "execution_count": 58,
   "id": "8a8c6540-3e63-4931-94bf-37ea14bab5c8",
   "metadata": {},
   "outputs": [],
   "source": [
    "x=22"
   ]
  },
  {
   "cell_type": "code",
   "execution_count": 59,
   "id": "f6b91b38-a349-4c6a-b7c6-57b3903cba0c",
   "metadata": {},
   "outputs": [
    {
     "data": {
      "text/plain": [
       "22.0"
      ]
     },
     "execution_count": 59,
     "metadata": {},
     "output_type": "execute_result"
    }
   ],
   "source": [
    "math.fabs(x)"
   ]
  },
  {
   "cell_type": "code",
   "execution_count": 60,
   "id": "13f6bcf0-49f1-486c-832f-9969df81a606",
   "metadata": {},
   "outputs": [
    {
     "data": {
      "text/plain": [
       "4.69041575982343"
      ]
     },
     "execution_count": 60,
     "metadata": {},
     "output_type": "execute_result"
    }
   ],
   "source": [
    "math.sqrt (x)"
   ]
  },
  {
   "cell_type": "code",
   "execution_count": 61,
   "id": "ec1d9166-3279-4114-b47f-37c646b76930",
   "metadata": {},
   "outputs": [
    {
     "data": {
      "text/plain": [
       "3"
      ]
     },
     "execution_count": 61,
     "metadata": {},
     "output_type": "execute_result"
    }
   ],
   "source": [
    "math.gcd(3,6,9)"
   ]
  },
  {
   "cell_type": "code",
   "execution_count": 62,
   "id": "ea1836b7-d1bd-474d-a8e7-3747e747b601",
   "metadata": {},
   "outputs": [
    {
     "data": {
      "text/plain": [
       "22"
      ]
     },
     "execution_count": 62,
     "metadata": {},
     "output_type": "execute_result"
    }
   ],
   "source": [
    "math.ceil(x)"
   ]
  },
  {
   "cell_type": "code",
   "execution_count": 63,
   "id": "8daabbe9-4baf-470d-bfb8-2adb14fd4df3",
   "metadata": {},
   "outputs": [
    {
     "data": {
      "text/plain": [
       "22.0"
      ]
     },
     "execution_count": 63,
     "metadata": {},
     "output_type": "execute_result"
    }
   ],
   "source": [
    "math.fabs(x)"
   ]
  },
  {
   "cell_type": "code",
   "execution_count": 64,
   "id": "27ebea87-6c8e-4d9b-9151-7b84c5e99236",
   "metadata": {},
   "outputs": [
    {
     "data": {
      "text/plain": [
       "22"
      ]
     },
     "execution_count": 64,
     "metadata": {},
     "output_type": "execute_result"
    }
   ],
   "source": [
    "math.floor(x)"
   ]
  },
  {
   "cell_type": "code",
   "execution_count": 65,
   "id": "6f5296ae-7c76-4fcd-a3d7-adf9a71e3dae",
   "metadata": {},
   "outputs": [],
   "source": [
    "# user = ? ,capacity = 128"
   ]
  },
  {
   "cell_type": "code",
   "execution_count": null,
   "id": "cff35225-11c3-4d29-aabf-397fb3690f6b",
   "metadata": {},
   "outputs": [],
   "source": [
    "user = 67"
   ]
  },
  {
   "cell_type": "code",
   "execution_count": 69,
   "id": "63ab7698-8f3e-45f9-afd2-a13557c4b79c",
   "metadata": {},
   "outputs": [],
   "source": [
    "capacity = 128"
   ]
  },
  {
   "cell_type": "code",
   "execution_count": 74,
   "id": "f65f7dc0-d40f-4cd1-9dfe-4ab4b7f3da6e",
   "metadata": {},
   "outputs": [],
   "source": [
    "user = 67"
   ]
  },
  {
   "cell_type": "code",
   "execution_count": 75,
   "id": "481dfab4-a8c9-4083-baef-6124ecbde76b",
   "metadata": {},
   "outputs": [],
   "source": [
    "result = min (user,capacity)"
   ]
  },
  {
   "cell_type": "code",
   "execution_count": 77,
   "id": "35c9fb49-dacd-45ce-a8b1-67fd355561d6",
   "metadata": {},
   "outputs": [
    {
     "name": "stdout",
     "output_type": "stream",
     "text": [
      "67\n"
     ]
    }
   ],
   "source": [
    "print ( result)"
   ]
  },
  {
   "cell_type": "code",
   "execution_count": 78,
   "id": "53fbaac6-be37-41ee-8fda-4d2b839319f4",
   "metadata": {},
   "outputs": [
    {
     "name": "stdout",
     "output_type": "stream",
     "text": [
      "67\n"
     ]
    }
   ],
   "source": [
    "print (result)"
   ]
  },
  {
   "cell_type": "code",
   "execution_count": 79,
   "id": "ea5d5749-d4ac-4bd4-998e-8c871c5f8fb9",
   "metadata": {},
   "outputs": [],
   "source": [
    "name = \"Harry\""
   ]
  },
  {
   "cell_type": "code",
   "execution_count": 81,
   "id": "89ddae3e-1df3-439e-bd13-54891dac34a8",
   "metadata": {},
   "outputs": [
    {
     "data": {
      "text/plain": [
       "str"
      ]
     },
     "execution_count": 81,
     "metadata": {},
     "output_type": "execute_result"
    }
   ],
   "source": [
    "type (name)"
   ]
  },
  {
   "cell_type": "code",
   "execution_count": 83,
   "id": "2348f98c-197f-4ec5-b774-e5903204a6d7",
   "metadata": {},
   "outputs": [
    {
     "ename": "SyntaxError",
     "evalue": "invalid syntax (986940630.py, line 1)",
     "output_type": "error",
     "traceback": [
      "  \u001b[36mCell\u001b[39m\u001b[36m \u001b[39m\u001b[32mIn[83]\u001b[39m\u001b[32m, line 1\u001b[39m\n\u001b[31m    \u001b[39m\u001b[31msent = \"\" line 1\u001b[39m\n              ^\n\u001b[31mSyntaxError\u001b[39m\u001b[31m:\u001b[39m invalid syntax\n"
     ]
    }
   ],
   "source": [
    "sent = \"\" line 1\n",
    "line 2\n",
    "line 3\n",
    "\"\""
   ]
  },
  {
   "cell_type": "code",
   "execution_count": 85,
   "id": "3e5e3b1b-76bc-45e7-8d46-cea80bf6929e",
   "metadata": {},
   "outputs": [],
   "source": [
    "x = \" WELCOME\""
   ]
  },
  {
   "cell_type": "code",
   "execution_count": 87,
   "id": "f3044988-a536-46e6-b4b4-36f2fb4e129e",
   "metadata": {},
   "outputs": [
    {
     "data": {
      "text/plain": [
       "' welcome'"
      ]
     },
     "execution_count": 87,
     "metadata": {},
     "output_type": "execute_result"
    }
   ],
   "source": [
    "x. lower()"
   ]
  },
  {
   "cell_type": "code",
   "execution_count": 88,
   "id": "75e7e290-93a6-4d42-9cbe-628a6a8ce6c6",
   "metadata": {},
   "outputs": [
    {
     "data": {
      "text/plain": [
       "' WELCOME'"
      ]
     },
     "execution_count": 88,
     "metadata": {},
     "output_type": "execute_result"
    }
   ],
   "source": [
    "x.upper()"
   ]
  },
  {
   "cell_type": "code",
   "execution_count": 89,
   "id": "530927ca-6c3c-4634-b148-99df1982e98f",
   "metadata": {},
   "outputs": [
    {
     "data": {
      "text/plain": [
       "'WELCOME'"
      ]
     },
     "execution_count": 89,
     "metadata": {},
     "output_type": "execute_result"
    }
   ],
   "source": [
    "x.strip()"
   ]
  },
  {
   "cell_type": "code",
   "execution_count": 91,
   "id": "179cdc52-b0e1-4c0a-9356-79f01b815958",
   "metadata": {},
   "outputs": [
    {
     "data": {
      "text/plain": [
       "' WALCOMA'"
      ]
     },
     "execution_count": 91,
     "metadata": {},
     "output_type": "execute_result"
    }
   ],
   "source": [
    "x.replace('E','A')"
   ]
  },
  {
   "cell_type": "code",
   "execution_count": 3,
   "id": "f6c90591-c981-4cb7-b7f0-2436233a59cf",
   "metadata": {},
   "outputs": [],
   "source": [
    "address = \"Kathmandu\""
   ]
  },
  {
   "cell_type": "code",
   "execution_count": 95,
   "id": "4c23c562-b7d4-4594-a12d-8a90bd83e3b3",
   "metadata": {},
   "outputs": [
    {
     "data": {
      "text/plain": [
       "'a'"
      ]
     },
     "execution_count": 95,
     "metadata": {},
     "output_type": "execute_result"
    }
   ],
   "source": [
    "address [5]"
   ]
  },
  {
   "cell_type": "code",
   "execution_count": 96,
   "id": "63fc1fc0-5941-4422-9d33-ee36050f2165",
   "metadata": {},
   "outputs": [
    {
     "data": {
      "text/plain": [
       "'u'"
      ]
     },
     "execution_count": 96,
     "metadata": {},
     "output_type": "execute_result"
    }
   ],
   "source": [
    "address [-1]"
   ]
  },
  {
   "cell_type": "code",
   "execution_count": 4,
   "id": "4ac24aa3-27c9-4dd3-8566-2e846f375adf",
   "metadata": {},
   "outputs": [
    {
     "data": {
      "text/plain": [
       "'aha'"
      ]
     },
     "execution_count": 4,
     "metadata": {},
     "output_type": "execute_result"
    }
   ],
   "source": [
    "address[1:7:2]"
   ]
  },
  {
   "cell_type": "code",
   "execution_count": 5,
   "id": "fcc50954-91b8-4d0e-8f18-0f5a8b7b5ff6",
   "metadata": {},
   "outputs": [
    {
     "data": {
      "text/plain": [
       "'a'"
      ]
     },
     "execution_count": 5,
     "metadata": {},
     "output_type": "execute_result"
    }
   ],
   "source": [
    "address[1:2]"
   ]
  },
  {
   "cell_type": "code",
   "execution_count": 7,
   "id": "64fb2437-ff0e-489e-ae79-c746268e450c",
   "metadata": {},
   "outputs": [
    {
     "data": {
      "text/plain": [
       "'Ktmnu'"
      ]
     },
     "execution_count": 7,
     "metadata": {},
     "output_type": "execute_result"
    }
   ],
   "source": [
    "address[::2]"
   ]
  },
  {
   "cell_type": "code",
   "execution_count": 8,
   "id": "7fe4b33d-c90b-46ea-b162-a666d2d8ed58",
   "metadata": {},
   "outputs": [
    {
     "data": {
      "text/plain": [
       "'man'"
      ]
     },
     "execution_count": 8,
     "metadata": {},
     "output_type": "execute_result"
    }
   ],
   "source": [
    "address[-5:-2]"
   ]
  },
  {
   "cell_type": "code",
   "execution_count": 9,
   "id": "dd3f4ee0-733e-4b5d-9d3e-a3b683884281",
   "metadata": {},
   "outputs": [
    {
     "data": {
      "text/plain": [
       "''"
      ]
     },
     "execution_count": 9,
     "metadata": {},
     "output_type": "execute_result"
    }
   ],
   "source": [
    "address[-5:2]"
   ]
  },
  {
   "cell_type": "code",
   "execution_count": 10,
   "id": "770076e2-8bb6-4e8d-bcd2-280502a447dd",
   "metadata": {},
   "outputs": [
    {
     "data": {
      "text/plain": [
       "'udnamhtaK'"
      ]
     },
     "execution_count": 10,
     "metadata": {},
     "output_type": "execute_result"
    }
   ],
   "source": [
    "address[::-1] #reverse string"
   ]
  },
  {
   "cell_type": "markdown",
   "id": "b0aef235-b22c-4fcf-ae4f-9b293ae9916a",
   "metadata": {},
   "source": [
    "String Formatting"
   ]
  },
  {
   "cell_type": "code",
   "execution_count": 11,
   "id": "f16a4312-d678-484a-b5c7-b6f0287fdf22",
   "metadata": {},
   "outputs": [],
   "source": [
    "name = \"John\"\n",
    "age = 45"
   ]
  },
  {
   "cell_type": "code",
   "execution_count": 13,
   "id": "52114aa1-9b88-4fbc-a605-d08e1931808b",
   "metadata": {},
   "outputs": [
    {
     "name": "stdout",
     "output_type": "stream",
     "text": [
      "Your name is Jhon and you are 45 years old\n"
     ]
    }
   ],
   "source": [
    "print(\"Your name is Jhon and you are 45 years old\")"
   ]
  },
  {
   "cell_type": "code",
   "execution_count": 15,
   "id": "74e2633f-9118-46dd-a5d0-8001a8fb5a04",
   "metadata": {},
   "outputs": [
    {
     "name": "stdout",
     "output_type": "stream",
     "text": [
      "Your name is John and you are 45 years old.\n"
     ]
    }
   ],
   "source": [
    "print(\"Your name is {} and you are {} years old.\".format(name.capitalize(),age))"
   ]
  },
  {
   "cell_type": "code",
   "execution_count": 17,
   "id": "15030ea0-6cdb-453b-8549-1233dae5dc4a",
   "metadata": {},
   "outputs": [
    {
     "name": "stdout",
     "output_type": "stream",
     "text": [
      "Your name is John and you are 45 years old\n"
     ]
    }
   ],
   "source": [
    "print(f\"Your name is {name} and you are {age} years old\")"
   ]
  },
  {
   "cell_type": "code",
   "execution_count": 21,
   "id": "82fe77fa-9170-4e0d-8730-873ca035c34e",
   "metadata": {},
   "outputs": [],
   "source": [
    "base_path = \"/C\"\n",
    "file_name = \"hd_video\"\n",
    "path = f\"{base_path}/output/{file_name}.mp4\""
   ]
  },
  {
   "cell_type": "code",
   "execution_count": 22,
   "id": "41247572-a702-42a2-88b2-db9d7f133df5",
   "metadata": {},
   "outputs": [
    {
     "data": {
      "text/plain": [
       "'/C/output/hd_video.mp4'"
      ]
     },
     "execution_count": 22,
     "metadata": {},
     "output_type": "execute_result"
    }
   ],
   "source": [
    "path"
   ]
  },
  {
   "cell_type": "code",
   "execution_count": 23,
   "id": "cf8a8ffc-f8c3-4697-ae51-4cd4c63fe0e0",
   "metadata": {},
   "outputs": [],
   "source": [
    "prime = [ 2,3,5,7,11,13,17]"
   ]
  },
  {
   "cell_type": "code",
   "execution_count": 29,
   "id": "0427b328-0bd0-4a43-ac3d-7effdb938e48",
   "metadata": {},
   "outputs": [
    {
     "data": {
      "text/plain": [
       "list"
      ]
     },
     "execution_count": 29,
     "metadata": {},
     "output_type": "execute_result"
    }
   ],
   "source": [
    "type(prime)"
   ]
  },
  {
   "cell_type": "code",
   "execution_count": 37,
   "id": "dc87e1ac-fb67-4ded-bbe4-49c8e962a537",
   "metadata": {},
   "outputs": [],
   "source": [
    "z = {\"apple\",11.34}"
   ]
  },
  {
   "cell_type": "code",
   "execution_count": 31,
   "id": "47e55a04-fcc4-4455-b6cc-8c8841c513bf",
   "metadata": {},
   "outputs": [
    {
     "name": "stdout",
     "output_type": "stream",
     "text": [
      "{'apple', 11.34}\n"
     ]
    }
   ],
   "source": [
    "print(z)"
   ]
  },
  {
   "cell_type": "code",
   "execution_count": 33,
   "id": "ac8ab0b4-2d50-4727-81bb-38d4a52679a9",
   "metadata": {},
   "outputs": [
    {
     "data": {
      "text/plain": [
       "2"
      ]
     },
     "execution_count": 33,
     "metadata": {},
     "output_type": "execute_result"
    }
   ],
   "source": [
    "len(z)"
   ]
  },
  {
   "cell_type": "code",
   "execution_count": 38,
   "id": "2c96e434-f544-408c-968b-c959fc284483",
   "metadata": {},
   "outputs": [
    {
     "ename": "TypeError",
     "evalue": "'set' object is not subscriptable",
     "output_type": "error",
     "traceback": [
      "\u001b[31m---------------------------------------------------------------------------\u001b[39m",
      "\u001b[31mTypeError\u001b[39m                                 Traceback (most recent call last)",
      "\u001b[36mCell\u001b[39m\u001b[36m \u001b[39m\u001b[32mIn[38]\u001b[39m\u001b[32m, line 1\u001b[39m\n\u001b[32m----> \u001b[39m\u001b[32m1\u001b[39m \u001b[43mz\u001b[49m\u001b[43m[\u001b[49m\u001b[32;43m1\u001b[39;49m\u001b[43m]\u001b[49m\n",
      "\u001b[31mTypeError\u001b[39m: 'set' object is not subscriptable"
     ]
    }
   ],
   "source": [
    "z[1]"
   ]
  },
  {
   "cell_type": "code",
   "execution_count": 39,
   "id": "e2f5fe53-97f5-4085-a960-7ed245b56506",
   "metadata": {},
   "outputs": [
    {
     "ename": "TypeError",
     "evalue": "'set' object is not subscriptable",
     "output_type": "error",
     "traceback": [
      "\u001b[31m---------------------------------------------------------------------------\u001b[39m",
      "\u001b[31mTypeError\u001b[39m                                 Traceback (most recent call last)",
      "\u001b[36mCell\u001b[39m\u001b[36m \u001b[39m\u001b[32mIn[39]\u001b[39m\u001b[32m, line 1\u001b[39m\n\u001b[32m----> \u001b[39m\u001b[32m1\u001b[39m \u001b[43mz\u001b[49m\u001b[43m[\u001b[49m\u001b[32;43m0\u001b[39;49m\u001b[43m]\u001b[49m\n",
      "\u001b[31mTypeError\u001b[39m: 'set' object is not subscriptable"
     ]
    }
   ],
   "source": [
    "z[0]"
   ]
  },
  {
   "cell_type": "code",
   "execution_count": 45,
   "id": "a16a46be-a712-4212-984b-d2cc1b75e13f",
   "metadata": {},
   "outputs": [],
   "source": [
    "prime = [ 2,3,5,7,11,13,17]"
   ]
  },
  {
   "cell_type": "code",
   "execution_count": 42,
   "id": "c751eed7-3ba1-499f-919e-6eab741be533",
   "metadata": {},
   "outputs": [
    {
     "data": {
      "text/plain": [
       "[5, 11, 17]"
      ]
     },
     "execution_count": 42,
     "metadata": {},
     "output_type": "execute_result"
    }
   ],
   "source": [
    "prime[2::2]"
   ]
  },
  {
   "cell_type": "code",
   "execution_count": 43,
   "id": "129efa08-67f5-4928-9b2a-54726b60e478",
   "metadata": {},
   "outputs": [
    {
     "data": {
      "text/plain": [
       "[17, 13, 11, 7, 5, 3, 2]"
      ]
     },
     "execution_count": 43,
     "metadata": {},
     "output_type": "execute_result"
    }
   ],
   "source": [
    "prime[::-1]"
   ]
  },
  {
   "cell_type": "code",
   "execution_count": 49,
   "id": "c1473b28-8881-4baa-8e09-a5a0868b51d5",
   "metadata": {},
   "outputs": [
    {
     "ename": "TypeError",
     "evalue": "'set' object is not subscriptable",
     "output_type": "error",
     "traceback": [
      "\u001b[31m---------------------------------------------------------------------------\u001b[39m",
      "\u001b[31mTypeError\u001b[39m                                 Traceback (most recent call last)",
      "\u001b[36mCell\u001b[39m\u001b[36m \u001b[39m\u001b[32mIn[49]\u001b[39m\u001b[32m, line 1\u001b[39m\n\u001b[32m----> \u001b[39m\u001b[32m1\u001b[39m \u001b[43mz\u001b[49m\u001b[43m[\u001b[49m\u001b[32;43m2\u001b[39;49m\u001b[43m]\u001b[49m\n",
      "\u001b[31mTypeError\u001b[39m: 'set' object is not subscriptable"
     ]
    }
   ],
   "source": [
    "z[2]"
   ]
  },
  {
   "cell_type": "code",
   "execution_count": 51,
   "id": "1ce62588-df72-47e6-a364-ba88b2f3cda1",
   "metadata": {},
   "outputs": [],
   "source": [
    "prime = [ 2,3,5,7,11,13,17]"
   ]
  },
  {
   "cell_type": "code",
   "execution_count": 52,
   "id": "a78bdf3b-fa20-4bd2-b463-e69fdee977f4",
   "metadata": {},
   "outputs": [
    {
     "ename": "TypeError",
     "evalue": "'set' object is not subscriptable",
     "output_type": "error",
     "traceback": [
      "\u001b[31m---------------------------------------------------------------------------\u001b[39m",
      "\u001b[31mTypeError\u001b[39m                                 Traceback (most recent call last)",
      "\u001b[36mCell\u001b[39m\u001b[36m \u001b[39m\u001b[32mIn[52]\u001b[39m\u001b[32m, line 1\u001b[39m\n\u001b[32m----> \u001b[39m\u001b[32m1\u001b[39m \u001b[43mz\u001b[49m\u001b[43m[\u001b[49m\u001b[32;43m2\u001b[39;49m\u001b[43m]\u001b[49m\n",
      "\u001b[31mTypeError\u001b[39m: 'set' object is not subscriptable"
     ]
    }
   ],
   "source": [
    "z[2]"
   ]
  },
  {
   "cell_type": "code",
   "execution_count": 77,
   "id": "6399d675-d7e9-401a-8cf2-c86860e001fc",
   "metadata": {},
   "outputs": [],
   "source": [
    "a = {\"apple\",11.34,\"john42\",-8,True}"
   ]
  },
  {
   "cell_type": "code",
   "execution_count": 78,
   "id": "36d42903-1818-4fef-a1cf-1541ff6069b4",
   "metadata": {},
   "outputs": [
    {
     "name": "stdout",
     "output_type": "stream",
     "text": [
      "{'john42', True, -8, 'apple', 11.34}\n"
     ]
    }
   ],
   "source": [
    "print (a)"
   ]
  },
  {
   "cell_type": "code",
   "execution_count": 82,
   "id": "92a0eaeb-fe7d-4cfd-b8d0-114e4d6e20e5",
   "metadata": {},
   "outputs": [
    {
     "ename": "AttributeError",
     "evalue": "'set' object has no attribute 'append'",
     "output_type": "error",
     "traceback": [
      "\u001b[31m---------------------------------------------------------------------------\u001b[39m",
      "\u001b[31mAttributeError\u001b[39m                            Traceback (most recent call last)",
      "\u001b[36mCell\u001b[39m\u001b[36m \u001b[39m\u001b[32mIn[82]\u001b[39m\u001b[32m, line 1\u001b[39m\n\u001b[32m----> \u001b[39m\u001b[32m1\u001b[39m \u001b[43ma\u001b[49m\u001b[43m.\u001b[49m\u001b[43mappend\u001b[49m(\u001b[32m66\u001b[39m)\n",
      "\u001b[31mAttributeError\u001b[39m: 'set' object has no attribute 'append'"
     ]
    }
   ],
   "source": [
    "a.append(66)"
   ]
  },
  {
   "cell_type": "code",
   "execution_count": 80,
   "id": "327ea9b0-3dde-4e09-a973-86a9f72567e5",
   "metadata": {},
   "outputs": [
    {
     "ename": "AttributeError",
     "evalue": "'set' object has no attribute 'extend'",
     "output_type": "error",
     "traceback": [
      "\u001b[31m---------------------------------------------------------------------------\u001b[39m",
      "\u001b[31mAttributeError\u001b[39m                            Traceback (most recent call last)",
      "\u001b[36mCell\u001b[39m\u001b[36m \u001b[39m\u001b[32mIn[80]\u001b[39m\u001b[32m, line 1\u001b[39m\n\u001b[32m----> \u001b[39m\u001b[32m1\u001b[39m \u001b[43ma\u001b[49m\u001b[43m.\u001b[49m\u001b[43mextend\u001b[49m([\u001b[32m1\u001b[39m,\u001b[32m2\u001b[39m,\u001b[32m3\u001b[39m])\n",
      "\u001b[31mAttributeError\u001b[39m: 'set' object has no attribute 'extend'"
     ]
    }
   ],
   "source": [
    "a.extend([1,2,3])"
   ]
  },
  {
   "cell_type": "code",
   "execution_count": 69,
   "id": "c66b5df1-973e-4f57-856d-d28329c66ad1",
   "metadata": {},
   "outputs": [],
   "source": [
    "a.remove(-8)"
   ]
  },
  {
   "cell_type": "code",
   "execution_count": 70,
   "id": "bbec12d1-97b3-45a3-a252-f0edb7b1ff59",
   "metadata": {},
   "outputs": [
    {
     "name": "stdout",
     "output_type": "stream",
     "text": [
      "{'john42', True, 'apple', 11.34}\n"
     ]
    }
   ],
   "source": [
    "print (a)"
   ]
  },
  {
   "cell_type": "code",
   "execution_count": 75,
   "id": "54919599-441b-4d89-bda0-bb1a51ee5563",
   "metadata": {},
   "outputs": [
    {
     "data": {
      "text/plain": [
       "'john42'"
      ]
     },
     "execution_count": 75,
     "metadata": {},
     "output_type": "execute_result"
    }
   ],
   "source": [
    "a.pop()"
   ]
  },
  {
   "cell_type": "code",
   "execution_count": 76,
   "id": "46ea90af-eddf-45a1-9f2e-90019b9ea9c5",
   "metadata": {},
   "outputs": [
    {
     "name": "stdout",
     "output_type": "stream",
     "text": [
      "{True, -8, 'apple', 11.34}\n"
     ]
    }
   ],
   "source": [
    "print (a)"
   ]
  },
  {
   "cell_type": "code",
   "execution_count": null,
   "id": "0e53650e-d46d-41ba-97fe-476084a16281",
   "metadata": {},
   "outputs": [],
   "source": []
  },
  {
   "cell_type": "code",
   "execution_count": null,
   "id": "32996211-3703-4402-aefa-6230df8a707f",
   "metadata": {},
   "outputs": [],
   "source": []
  },
  {
   "cell_type": "code",
   "execution_count": 83,
   "id": "521eb964-9ba5-45dd-a56f-1eca5c6f4b80",
   "metadata": {},
   "outputs": [],
   "source": [
    "name = [\"hari\",\"shyam\",\"ram\"]"
   ]
  },
  {
   "cell_type": "code",
   "execution_count": 84,
   "id": "32aed27c-a6a6-4d9f-b4bb-c3dc981f8cb7",
   "metadata": {},
   "outputs": [],
   "source": [
    "name_new = name"
   ]
  },
  {
   "cell_type": "code",
   "execution_count": 85,
   "id": "edf17b04-4278-46da-bfac-36a09b8a1896",
   "metadata": {},
   "outputs": [
    {
     "data": {
      "text/plain": [
       "['hari', 'shyam', 'ram']"
      ]
     },
     "execution_count": 85,
     "metadata": {},
     "output_type": "execute_result"
    }
   ],
   "source": [
    "name_new"
   ]
  },
  {
   "cell_type": "code",
   "execution_count": 87,
   "id": "99314152-44dd-47e9-8419-de6b6001f4d2",
   "metadata": {},
   "outputs": [],
   "source": [
    "name_new.append(\"krishna\")"
   ]
  },
  {
   "cell_type": "code",
   "execution_count": 88,
   "id": "c86be131-022e-44c1-9ee7-b3a3f6e6084e",
   "metadata": {},
   "outputs": [
    {
     "data": {
      "text/plain": [
       "['hari', 'shyam', 'ram', 'krishna']"
      ]
     },
     "execution_count": 88,
     "metadata": {},
     "output_type": "execute_result"
    }
   ],
   "source": [
    "name_new"
   ]
  },
  {
   "cell_type": "code",
   "execution_count": 89,
   "id": "a3e30ebd-7a5d-4323-8879-1a9f3db0fc24",
   "metadata": {},
   "outputs": [
    {
     "data": {
      "text/plain": [
       "['hari', 'shyam', 'ram', 'krishna']"
      ]
     },
     "execution_count": 89,
     "metadata": {},
     "output_type": "execute_result"
    }
   ],
   "source": [
    "name"
   ]
  },
  {
   "cell_type": "code",
   "execution_count": 90,
   "id": "a9e6da1c-e987-4715-a713-af2cb038d670",
   "metadata": {},
   "outputs": [],
   "source": [
    "mylist = [1,2,3,5,66]"
   ]
  },
  {
   "cell_type": "code",
   "execution_count": 91,
   "id": "ace377ee-dc0f-4263-aad3-18c574f040c1",
   "metadata": {},
   "outputs": [
    {
     "name": "stdout",
     "output_type": "stream",
     "text": [
      "[1, 2, 3, 5, 66]\n"
     ]
    }
   ],
   "source": [
    "print(mylist)"
   ]
  },
  {
   "cell_type": "code",
   "execution_count": 96,
   "id": "0b1e5a46-dee3-4e31-a4d6-cad0362a9d62",
   "metadata": {},
   "outputs": [],
   "source": [
    "mylist.sort(reverse = True)"
   ]
  },
  {
   "cell_type": "code",
   "execution_count": 97,
   "id": "0143a23b-6e6a-40b5-b403-b3207f64e223",
   "metadata": {},
   "outputs": [
    {
     "name": "stdout",
     "output_type": "stream",
     "text": [
      "[66, 5, 3, 2, 1]\n"
     ]
    }
   ],
   "source": [
    "print(mylist)"
   ]
  },
  {
   "cell_type": "code",
   "execution_count": null,
   "id": "59fe9978-9d80-4449-8cf2-e1da2c9da42d",
   "metadata": {},
   "outputs": [],
   "source": []
  },
  {
   "cell_type": "code",
   "execution_count": 98,
   "id": "539033d3-4883-4425-a1fa-c957e6583c04",
   "metadata": {},
   "outputs": [],
   "source": [
    "mylist.reverse()"
   ]
  },
  {
   "cell_type": "code",
   "execution_count": 99,
   "id": "f1da1866-61b9-4980-961b-85e1daae0340",
   "metadata": {},
   "outputs": [
    {
     "name": "stdout",
     "output_type": "stream",
     "text": [
      "[1, 2, 3, 5, 66]\n"
     ]
    }
   ],
   "source": [
    "print(mylist)"
   ]
  },
  {
   "cell_type": "code",
   "execution_count": 101,
   "id": "755cd354-0932-41b9-95fe-e4d48c686867",
   "metadata": {},
   "outputs": [
    {
     "data": {
      "text/plain": [
       "1"
      ]
     },
     "execution_count": 101,
     "metadata": {},
     "output_type": "execute_result"
    }
   ],
   "source": [
    "mylist.count(3)"
   ]
  },
  {
   "cell_type": "code",
   "execution_count": 103,
   "id": "97448bab-e987-439d-b642-70e9858d32e2",
   "metadata": {},
   "outputs": [
    {
     "data": {
      "text/plain": [
       "2"
      ]
     },
     "execution_count": 103,
     "metadata": {},
     "output_type": "execute_result"
    }
   ],
   "source": [
    "mylist.index(3)"
   ]
  },
  {
   "cell_type": "code",
   "execution_count": null,
   "id": "7fcc99cd-4150-4ab0-95b0-e5bf8433297b",
   "metadata": {},
   "outputs": [],
   "source": []
  },
  {
   "cell_type": "code",
   "execution_count": 104,
   "id": "bcfc937d-a44e-440c-ba77-5bf0d6f6d22a",
   "metadata": {},
   "outputs": [],
   "source": [
    "mytuple = (720 ,1280 ,66 )"
   ]
  },
  {
   "cell_type": "code",
   "execution_count": 105,
   "id": "3c3a5507-8cbd-46ce-b2e2-c12af339c80e",
   "metadata": {},
   "outputs": [
    {
     "name": "stdout",
     "output_type": "stream",
     "text": [
      "(720, 1280, 66)\n"
     ]
    }
   ],
   "source": [
    "print (mytuple)"
   ]
  },
  {
   "cell_type": "code",
   "execution_count": 106,
   "id": "afa10ec1-d1d9-4f29-bac7-73139e2e3b33",
   "metadata": {},
   "outputs": [
    {
     "data": {
      "text/plain": [
       "tuple"
      ]
     },
     "execution_count": 106,
     "metadata": {},
     "output_type": "execute_result"
    }
   ],
   "source": [
    "type(mytuple)\n"
   ]
  },
  {
   "cell_type": "code",
   "execution_count": 107,
   "id": "c12295ca-1240-4cb4-8982-a254d0a1a61d",
   "metadata": {},
   "outputs": [
    {
     "data": {
      "text/plain": [
       "720"
      ]
     },
     "execution_count": 107,
     "metadata": {},
     "output_type": "execute_result"
    }
   ],
   "source": [
    "mytuple[0]"
   ]
  },
  {
   "cell_type": "code",
   "execution_count": 108,
   "id": "ca12223b-054e-4929-8b5e-4d018ae275e7",
   "metadata": {},
   "outputs": [
    {
     "data": {
      "text/plain": [
       "66"
      ]
     },
     "execution_count": 108,
     "metadata": {},
     "output_type": "execute_result"
    }
   ],
   "source": [
    "mytuple[-1]"
   ]
  },
  {
   "cell_type": "code",
   "execution_count": 109,
   "id": "24eb76ff-0ba8-4798-8737-4840d904bb71",
   "metadata": {},
   "outputs": [],
   "source": [
    "longtuple = (1,3,6,33,66,0)"
   ]
  },
  {
   "cell_type": "code",
   "execution_count": 110,
   "id": "42662960-46c3-4f23-86f1-0f9c88433e04",
   "metadata": {},
   "outputs": [
    {
     "name": "stdout",
     "output_type": "stream",
     "text": [
      "(1, 3, 6, 33, 66, 0)\n"
     ]
    }
   ],
   "source": [
    "print(longtuple)"
   ]
  },
  {
   "cell_type": "code",
   "execution_count": 113,
   "id": "410bf3d8-bd21-474e-9ba3-0e04a228cd4d",
   "metadata": {},
   "outputs": [
    {
     "data": {
      "text/plain": [
       "(6, 33, 66, 0)"
      ]
     },
     "execution_count": 113,
     "metadata": {},
     "output_type": "execute_result"
    }
   ],
   "source": [
    "longtuple[2:6]"
   ]
  },
  {
   "cell_type": "code",
   "execution_count": 114,
   "id": "e245cca7-3924-4c36-9c44-2c4f76daa31d",
   "metadata": {},
   "outputs": [
    {
     "data": {
      "text/plain": [
       "1"
      ]
     },
     "execution_count": 114,
     "metadata": {},
     "output_type": "execute_result"
    }
   ],
   "source": [
    "longtuple.count(0)"
   ]
  },
  {
   "cell_type": "code",
   "execution_count": 115,
   "id": "b53dfb73-abca-4834-8e19-3a4d4d5b8208",
   "metadata": {},
   "outputs": [
    {
     "data": {
      "text/plain": [
       "[0, 1, 3, 6, 33, 66]"
      ]
     },
     "execution_count": 115,
     "metadata": {},
     "output_type": "execute_result"
    }
   ],
   "source": [
    "sorted(longtuple)"
   ]
  },
  {
   "cell_type": "code",
   "execution_count": 116,
   "id": "3bd65902-9bbd-4fcd-878b-b96380206533",
   "metadata": {},
   "outputs": [
    {
     "data": {
      "text/plain": [
       "[1, 3, 6, 33, 66, 0]"
      ]
     },
     "execution_count": 116,
     "metadata": {},
     "output_type": "execute_result"
    }
   ],
   "source": [
    "list(longtuple)"
   ]
  },
  {
   "cell_type": "code",
   "execution_count": 117,
   "id": "3ae571a1-6674-4ffe-8a05-b4c1e10f2c34",
   "metadata": {},
   "outputs": [
    {
     "data": {
      "text/plain": [
       "(1, 2, 3, 5, 66)"
      ]
     },
     "execution_count": 117,
     "metadata": {},
     "output_type": "execute_result"
    }
   ],
   "source": [
    "tuple(mylist)"
   ]
  },
  {
   "cell_type": "code",
   "execution_count": null,
   "id": "d840821b-720e-49d7-a119-fde27aacb967",
   "metadata": {},
   "outputs": [],
   "source": []
  }
 ],
 "metadata": {
  "kernelspec": {
   "display_name": "Python 3 (ipykernel)",
   "language": "python",
   "name": "python3"
  },
  "language_info": {
   "codemirror_mode": {
    "name": "ipython",
    "version": 3
   },
   "file_extension": ".py",
   "mimetype": "text/x-python",
   "name": "python",
   "nbconvert_exporter": "python",
   "pygments_lexer": "ipython3",
   "version": "3.13.3"
  }
 },
 "nbformat": 4,
 "nbformat_minor": 5
}
