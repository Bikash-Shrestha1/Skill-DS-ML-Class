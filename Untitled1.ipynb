{
 "cells": [
  {
   "cell_type": "code",
   "execution_count": 1,
   "id": "5c2c07f5-d8e4-45af-8ded-90924c83a1cf",
   "metadata": {},
   "outputs": [],
   "source": [
    "number = 12345"
   ]
  },
  {
   "cell_type": "code",
   "execution_count": 4,
   "id": "e83f16d6-87ca-4fb6-b8b5-cd34b380a7f9",
   "metadata": {},
   "outputs": [
    {
     "data": {
      "text/plain": [
       "int"
      ]
     },
     "execution_count": 4,
     "metadata": {},
     "output_type": "execute_result"
    }
   ],
   "source": [
    "type (number)"
   ]
  },
  {
   "cell_type": "code",
   "execution_count": 7,
   "id": "bf6567f1-7106-47d6-8f7b-3908b79148a9",
   "metadata": {},
   "outputs": [
    {
     "name": "stdout",
     "output_type": "stream",
     "text": [
      "12345\n"
     ]
    }
   ],
   "source": [
    "print (number)"
   ]
  },
  {
   "cell_type": "code",
   "execution_count": 9,
   "id": "9b412539-bdae-468c-b002-c4e12e03e958",
   "metadata": {},
   "outputs": [],
   "source": [
    "pie = 22/7"
   ]
  },
  {
   "cell_type": "code",
   "execution_count": 12,
   "id": "eb74209e-c37e-4997-a8e1-b0859d7fa241",
   "metadata": {},
   "outputs": [
    {
     "name": "stdout",
     "output_type": "stream",
     "text": [
      "3.142857142857143\n"
     ]
    }
   ],
   "source": [
    "print (pie)"
   ]
  },
  {
   "cell_type": "code",
   "execution_count": 15,
   "id": "1fc8ab28-af14-45e3-acc3-df43c7fb2171",
   "metadata": {},
   "outputs": [
    {
     "data": {
      "text/plain": [
       "float"
      ]
     },
     "execution_count": 15,
     "metadata": {},
     "output_type": "execute_result"
    }
   ],
   "source": [
    "type (pie)"
   ]
  },
  {
   "cell_type": "code",
   "execution_count": 16,
   "id": "3fad3445-a3cc-4ced-b2bd-b5674eb068b4",
   "metadata": {},
   "outputs": [
    {
     "name": "stdout",
     "output_type": "stream",
     "text": [
      "\f",
      "\n"
     ]
    }
   ],
   "source": [
    "clear"
   ]
  },
  {
   "cell_type": "code",
   "execution_count": 17,
   "id": "742fed8b-7b7b-4922-aacd-3aafa1f426ac",
   "metadata": {},
   "outputs": [],
   "source": [
    "vec = 6-3j"
   ]
  },
  {
   "cell_type": "code",
   "execution_count": 18,
   "id": "6f4c75d0-cdc9-4b74-9340-89af88e0fd84",
   "metadata": {},
   "outputs": [
    {
     "data": {
      "text/plain": [
       "complex"
      ]
     },
     "execution_count": 18,
     "metadata": {},
     "output_type": "execute_result"
    }
   ],
   "source": [
    "type ( vec)"
   ]
  },
  {
   "cell_type": "code",
   "execution_count": 20,
   "id": "1018b7c2-ef8f-44fd-9153-a671720ba9f2",
   "metadata": {},
   "outputs": [
    {
     "name": "stdout",
     "output_type": "stream",
     "text": [
      "(6-3j)\n"
     ]
    }
   ],
   "source": [
    "print (vec)"
   ]
  },
  {
   "cell_type": "code",
   "execution_count": 21,
   "id": "afa4b68f-82f8-4412-baff-5a65754627a0",
   "metadata": {},
   "outputs": [],
   "source": [
    "x=22\n",
    "y=55.6"
   ]
  },
  {
   "cell_type": "code",
   "execution_count": 22,
   "id": "1bacf369-3889-41c3-ad16-3970aae68117",
   "metadata": {},
   "outputs": [
    {
     "data": {
      "text/plain": [
       "77.6"
      ]
     },
     "execution_count": 22,
     "metadata": {},
     "output_type": "execute_result"
    }
   ],
   "source": [
    "x+y"
   ]
  },
  {
   "cell_type": "code",
   "execution_count": 23,
   "id": "35af9b61-6240-4995-abe1-2655f4d3c2bf",
   "metadata": {},
   "outputs": [
    {
     "data": {
      "text/plain": [
       "-33.6"
      ]
     },
     "execution_count": 23,
     "metadata": {},
     "output_type": "execute_result"
    }
   ],
   "source": [
    "x-y"
   ]
  },
  {
   "cell_type": "code",
   "execution_count": 24,
   "id": "32fc81eb-e253-47b3-a0d4-13d869834420",
   "metadata": {},
   "outputs": [
    {
     "data": {
      "text/plain": [
       "1223.2"
      ]
     },
     "execution_count": 24,
     "metadata": {},
     "output_type": "execute_result"
    }
   ],
   "source": [
    "x*y"
   ]
  },
  {
   "cell_type": "code",
   "execution_count": 25,
   "id": "f21141ec-3d32-4a59-a061-5fce3b331115",
   "metadata": {},
   "outputs": [
    {
     "data": {
      "text/plain": [
       "0.39568345323741005"
      ]
     },
     "execution_count": 25,
     "metadata": {},
     "output_type": "execute_result"
    }
   ],
   "source": [
    "x/y"
   ]
  },
  {
   "cell_type": "code",
   "execution_count": 26,
   "id": "e2107534-750a-436b-a61e-844c6bc8a8c6",
   "metadata": {},
   "outputs": [
    {
     "data": {
      "text/plain": [
       "22.0"
      ]
     },
     "execution_count": 26,
     "metadata": {},
     "output_type": "execute_result"
    }
   ],
   "source": [
    "x%y"
   ]
  },
  {
   "cell_type": "code",
   "execution_count": 27,
   "id": "cb7c4dfb-1adc-455e-9062-c3c40496addd",
   "metadata": {},
   "outputs": [
    {
     "data": {
      "text/plain": [
       "1"
      ]
     },
     "execution_count": 27,
     "metadata": {},
     "output_type": "execute_result"
    }
   ],
   "source": [
    "10%3"
   ]
  },
  {
   "cell_type": "code",
   "execution_count": 28,
   "id": "e1cfcb3a-6dff-44d5-8d89-6a10c481047f",
   "metadata": {},
   "outputs": [
    {
     "data": {
      "text/plain": [
       "100000"
      ]
     },
     "execution_count": 28,
     "metadata": {},
     "output_type": "execute_result"
    }
   ],
   "source": [
    "10**5"
   ]
  },
  {
   "cell_type": "code",
   "execution_count": 29,
   "id": "6ee604ed-9271-49d7-97bc-b2714af91703",
   "metadata": {},
   "outputs": [
    {
     "data": {
      "text/plain": [
       "3"
      ]
     },
     "execution_count": 29,
     "metadata": {},
     "output_type": "execute_result"
    }
   ],
   "source": [
    "10//3"
   ]
  },
  {
   "cell_type": "code",
   "execution_count": 31,
   "id": "22d37c16-ed30-4402-afde-c06489ab8bfe",
   "metadata": {},
   "outputs": [],
   "source": [
    "eulers = 0.577218"
   ]
  },
  {
   "cell_type": "code",
   "execution_count": 33,
   "id": "9993f9f4-fa6a-483e-b056-a9d64f03f1d4",
   "metadata": {},
   "outputs": [],
   "source": [
    "number = int(eulers)"
   ]
  },
  {
   "cell_type": "code",
   "execution_count": 34,
   "id": "22ff32d9-3b31-46c1-b8d1-e2a4bb544fe3",
   "metadata": {},
   "outputs": [
    {
     "data": {
      "text/plain": [
       "0"
      ]
     },
     "execution_count": 34,
     "metadata": {},
     "output_type": "execute_result"
    }
   ],
   "source": [
    "number"
   ]
  },
  {
   "cell_type": "code",
   "execution_count": 35,
   "id": "4c24d0c2-6b8c-4821-8a30-66a362b8e447",
   "metadata": {},
   "outputs": [],
   "source": [
    "whole = 99"
   ]
  },
  {
   "cell_type": "code",
   "execution_count": 36,
   "id": "07714404-c1ef-41c2-b513-b8c716b47e34",
   "metadata": {},
   "outputs": [
    {
     "data": {
      "text/plain": [
       "99.0"
      ]
     },
     "execution_count": 36,
     "metadata": {},
     "output_type": "execute_result"
    }
   ],
   "source": [
    "float(whole)"
   ]
  },
  {
   "cell_type": "code",
   "execution_count": 37,
   "id": "9c4cafb6-d64b-4cbd-b6f8-4f59030fc9c7",
   "metadata": {},
   "outputs": [
    {
     "data": {
      "text/plain": [
       "(334+66.7j)"
      ]
     },
     "execution_count": 37,
     "metadata": {},
     "output_type": "execute_result"
    }
   ],
   "source": [
    "complex(334,66.7)"
   ]
  },
  {
   "cell_type": "code",
   "execution_count": 39,
   "id": "3fd5713d-11d2-45ac-97a6-2aad09a4bb25",
   "metadata": {},
   "outputs": [],
   "source": [
    "num1 = 77\n",
    "num2 = 67"
   ]
  },
  {
   "cell_type": "code",
   "execution_count": 40,
   "id": "55e58d73-7734-4c1d-8f9c-1459a9b2bb02",
   "metadata": {},
   "outputs": [
    {
     "data": {
      "text/plain": [
       "False"
      ]
     },
     "execution_count": 40,
     "metadata": {},
     "output_type": "execute_result"
    }
   ],
   "source": [
    "num1 == num2"
   ]
  },
  {
   "cell_type": "code",
   "execution_count": 42,
   "id": "e9870bc0-40c3-43ae-8e16-76919f6712e8",
   "metadata": {},
   "outputs": [
    {
     "data": {
      "text/plain": [
       "True"
      ]
     },
     "execution_count": 42,
     "metadata": {},
     "output_type": "execute_result"
    }
   ],
   "source": [
    "num1 != num2"
   ]
  },
  {
   "cell_type": "code",
   "execution_count": 43,
   "id": "deefe68f-bbdf-43cb-bb08-b0984dea1ac7",
   "metadata": {},
   "outputs": [
    {
     "data": {
      "text/plain": [
       "True"
      ]
     },
     "execution_count": 43,
     "metadata": {},
     "output_type": "execute_result"
    }
   ],
   "source": [
    "num1 > num2"
   ]
  },
  {
   "cell_type": "code",
   "execution_count": 44,
   "id": "05caafff-6505-46fa-9e68-12ddad839bc8",
   "metadata": {},
   "outputs": [
    {
     "data": {
      "text/plain": [
       "False"
      ]
     },
     "execution_count": 44,
     "metadata": {},
     "output_type": "execute_result"
    }
   ],
   "source": [
    "num1 < num2"
   ]
  },
  {
   "cell_type": "code",
   "execution_count": 45,
   "id": "cc572698-4fc2-45cd-98b4-595d8d5d9a22",
   "metadata": {},
   "outputs": [
    {
     "data": {
      "text/plain": [
       "False"
      ]
     },
     "execution_count": 45,
     "metadata": {},
     "output_type": "execute_result"
    }
   ],
   "source": [
    "num1 <= num2"
   ]
  },
  {
   "cell_type": "code",
   "execution_count": 46,
   "id": "5e45c92d-e3ae-4a14-ade5-52c927c8870a",
   "metadata": {},
   "outputs": [
    {
     "data": {
      "text/plain": [
       "True"
      ]
     },
     "execution_count": 46,
     "metadata": {},
     "output_type": "execute_result"
    }
   ],
   "source": [
    "num1 >= num2"
   ]
  },
  {
   "cell_type": "code",
   "execution_count": 57,
   "id": "cb93433d-7f86-4ad5-a643-e85790334af7",
   "metadata": {},
   "outputs": [],
   "source": [
    "import math"
   ]
  },
  {
   "cell_type": "code",
   "execution_count": 58,
   "id": "8a8c6540-3e63-4931-94bf-37ea14bab5c8",
   "metadata": {},
   "outputs": [],
   "source": [
    "x=22"
   ]
  },
  {
   "cell_type": "code",
   "execution_count": 59,
   "id": "f6b91b38-a349-4c6a-b7c6-57b3903cba0c",
   "metadata": {},
   "outputs": [
    {
     "data": {
      "text/plain": [
       "22.0"
      ]
     },
     "execution_count": 59,
     "metadata": {},
     "output_type": "execute_result"
    }
   ],
   "source": [
    "math.fabs(x)"
   ]
  },
  {
   "cell_type": "code",
   "execution_count": 60,
   "id": "13f6bcf0-49f1-486c-832f-9969df81a606",
   "metadata": {},
   "outputs": [
    {
     "data": {
      "text/plain": [
       "4.69041575982343"
      ]
     },
     "execution_count": 60,
     "metadata": {},
     "output_type": "execute_result"
    }
   ],
   "source": [
    "math.sqrt (x)"
   ]
  },
  {
   "cell_type": "code",
   "execution_count": 61,
   "id": "ec1d9166-3279-4114-b47f-37c646b76930",
   "metadata": {},
   "outputs": [
    {
     "data": {
      "text/plain": [
       "3"
      ]
     },
     "execution_count": 61,
     "metadata": {},
     "output_type": "execute_result"
    }
   ],
   "source": [
    "math.gcd(3,6,9)"
   ]
  },
  {
   "cell_type": "code",
   "execution_count": 62,
   "id": "ea1836b7-d1bd-474d-a8e7-3747e747b601",
   "metadata": {},
   "outputs": [
    {
     "data": {
      "text/plain": [
       "22"
      ]
     },
     "execution_count": 62,
     "metadata": {},
     "output_type": "execute_result"
    }
   ],
   "source": [
    "math.ceil(x)"
   ]
  },
  {
   "cell_type": "code",
   "execution_count": 63,
   "id": "8daabbe9-4baf-470d-bfb8-2adb14fd4df3",
   "metadata": {},
   "outputs": [
    {
     "data": {
      "text/plain": [
       "22.0"
      ]
     },
     "execution_count": 63,
     "metadata": {},
     "output_type": "execute_result"
    }
   ],
   "source": [
    "math.fabs(x)"
   ]
  },
  {
   "cell_type": "code",
   "execution_count": 64,
   "id": "27ebea87-6c8e-4d9b-9151-7b84c5e99236",
   "metadata": {},
   "outputs": [
    {
     "data": {
      "text/plain": [
       "22"
      ]
     },
     "execution_count": 64,
     "metadata": {},
     "output_type": "execute_result"
    }
   ],
   "source": [
    "math.floor(x)"
   ]
  },
  {
   "cell_type": "code",
   "execution_count": 65,
   "id": "6f5296ae-7c76-4fcd-a3d7-adf9a71e3dae",
   "metadata": {},
   "outputs": [],
   "source": [
    "# user = ? ,capacity = 128"
   ]
  },
  {
   "cell_type": "code",
   "execution_count": null,
   "id": "cff35225-11c3-4d29-aabf-397fb3690f6b",
   "metadata": {},
   "outputs": [],
   "source": [
    "user = 67"
   ]
  },
  {
   "cell_type": "code",
   "execution_count": 69,
   "id": "63ab7698-8f3e-45f9-afd2-a13557c4b79c",
   "metadata": {},
   "outputs": [],
   "source": [
    "capacity = 128"
   ]
  },
  {
   "cell_type": "code",
   "execution_count": 74,
   "id": "f65f7dc0-d40f-4cd1-9dfe-4ab4b7f3da6e",
   "metadata": {},
   "outputs": [],
   "source": [
    "user = 67"
   ]
  },
  {
   "cell_type": "code",
   "execution_count": 75,
   "id": "481dfab4-a8c9-4083-baef-6124ecbde76b",
   "metadata": {},
   "outputs": [],
   "source": [
    "result = min (user,capacity)"
   ]
  },
  {
   "cell_type": "code",
   "execution_count": 77,
   "id": "35c9fb49-dacd-45ce-a8b1-67fd355561d6",
   "metadata": {},
   "outputs": [
    {
     "name": "stdout",
     "output_type": "stream",
     "text": [
      "67\n"
     ]
    }
   ],
   "source": [
    "print ( result)"
   ]
  },
  {
   "cell_type": "code",
   "execution_count": 78,
   "id": "53fbaac6-be37-41ee-8fda-4d2b839319f4",
   "metadata": {},
   "outputs": [
    {
     "name": "stdout",
     "output_type": "stream",
     "text": [
      "67\n"
     ]
    }
   ],
   "source": [
    "print (result)"
   ]
  },
  {
   "cell_type": "code",
   "execution_count": 79,
   "id": "ea5d5749-d4ac-4bd4-998e-8c871c5f8fb9",
   "metadata": {},
   "outputs": [],
   "source": [
    "name = \"Harry\""
   ]
  },
  {
   "cell_type": "code",
   "execution_count": 81,
   "id": "89ddae3e-1df3-439e-bd13-54891dac34a8",
   "metadata": {},
   "outputs": [
    {
     "data": {
      "text/plain": [
       "str"
      ]
     },
     "execution_count": 81,
     "metadata": {},
     "output_type": "execute_result"
    }
   ],
   "source": [
    "type (name)"
   ]
  },
  {
   "cell_type": "code",
   "execution_count": 83,
   "id": "2348f98c-197f-4ec5-b774-e5903204a6d7",
   "metadata": {},
   "outputs": [
    {
     "ename": "SyntaxError",
     "evalue": "invalid syntax (986940630.py, line 1)",
     "output_type": "error",
     "traceback": [
      "  \u001b[36mCell\u001b[39m\u001b[36m \u001b[39m\u001b[32mIn[83]\u001b[39m\u001b[32m, line 1\u001b[39m\n\u001b[31m    \u001b[39m\u001b[31msent = \"\" line 1\u001b[39m\n              ^\n\u001b[31mSyntaxError\u001b[39m\u001b[31m:\u001b[39m invalid syntax\n"
     ]
    }
   ],
   "source": [
    "sent = \"\" line 1\n",
    "line 2\n",
    "line 3\n",
    "\"\""
   ]
  },
  {
   "cell_type": "code",
   "execution_count": 85,
   "id": "3e5e3b1b-76bc-45e7-8d46-cea80bf6929e",
   "metadata": {},
   "outputs": [],
   "source": [
    "x = \" WELCOME\""
   ]
  },
  {
   "cell_type": "code",
   "execution_count": 87,
   "id": "f3044988-a536-46e6-b4b4-36f2fb4e129e",
   "metadata": {},
   "outputs": [
    {
     "data": {
      "text/plain": [
       "' welcome'"
      ]
     },
     "execution_count": 87,
     "metadata": {},
     "output_type": "execute_result"
    }
   ],
   "source": [
    "x. lower()"
   ]
  },
  {
   "cell_type": "code",
   "execution_count": 88,
   "id": "75e7e290-93a6-4d42-9cbe-628a6a8ce6c6",
   "metadata": {},
   "outputs": [
    {
     "data": {
      "text/plain": [
       "' WELCOME'"
      ]
     },
     "execution_count": 88,
     "metadata": {},
     "output_type": "execute_result"
    }
   ],
   "source": [
    "x.upper()"
   ]
  },
  {
   "cell_type": "code",
   "execution_count": 89,
   "id": "530927ca-6c3c-4634-b148-99df1982e98f",
   "metadata": {},
   "outputs": [
    {
     "data": {
      "text/plain": [
       "'WELCOME'"
      ]
     },
     "execution_count": 89,
     "metadata": {},
     "output_type": "execute_result"
    }
   ],
   "source": [
    "x.strip()"
   ]
  },
  {
   "cell_type": "code",
   "execution_count": 91,
   "id": "179cdc52-b0e1-4c0a-9356-79f01b815958",
   "metadata": {},
   "outputs": [
    {
     "data": {
      "text/plain": [
       "' WALCOMA'"
      ]
     },
     "execution_count": 91,
     "metadata": {},
     "output_type": "execute_result"
    }
   ],
   "source": [
    "x.replace('E','A')"
   ]
  },
  {
   "cell_type": "code",
   "execution_count": 93,
   "id": "f6c90591-c981-4cb7-b7f0-2436233a59cf",
   "metadata": {},
   "outputs": [],
   "source": [
    "address = \"Kathmandu\""
   ]
  },
  {
   "cell_type": "code",
   "execution_count": 95,
   "id": "4c23c562-b7d4-4594-a12d-8a90bd83e3b3",
   "metadata": {},
   "outputs": [
    {
     "data": {
      "text/plain": [
       "'a'"
      ]
     },
     "execution_count": 95,
     "metadata": {},
     "output_type": "execute_result"
    }
   ],
   "source": [
    "address [5]"
   ]
  },
  {
   "cell_type": "code",
   "execution_count": 96,
   "id": "63fc1fc0-5941-4422-9d33-ee36050f2165",
   "metadata": {},
   "outputs": [
    {
     "data": {
      "text/plain": [
       "'u'"
      ]
     },
     "execution_count": 96,
     "metadata": {},
     "output_type": "execute_result"
    }
   ],
   "source": [
    "address [-1]"
   ]
  },
  {
   "cell_type": "code",
   "execution_count": null,
   "id": "4ac24aa3-27c9-4dd3-8566-2e846f375adf",
   "metadata": {},
   "outputs": [],
   "source": []
  }
 ],
 "metadata": {
  "kernelspec": {
   "display_name": "Python 3 (ipykernel)",
   "language": "python",
   "name": "python3"
  },
  "language_info": {
   "codemirror_mode": {
    "name": "ipython",
    "version": 3
   },
   "file_extension": ".py",
   "mimetype": "text/x-python",
   "name": "python",
   "nbconvert_exporter": "python",
   "pygments_lexer": "ipython3",
   "version": "3.13.3"
  }
 },
 "nbformat": 4,
 "nbformat_minor": 5
}
