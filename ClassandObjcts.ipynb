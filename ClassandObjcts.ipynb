{
 "cells": [
  {
   "cell_type": "markdown",
   "id": "a9ab0d48-79ce-4fc4-83c5-15c13b470523",
   "metadata": {},
   "source": [
    "Class and Objects"
   ]
  },
  {
   "cell_type": "code",
   "execution_count": 15,
   "id": "536c9798-38ed-4dad-a47a-d20f08f1ea8b",
   "metadata": {},
   "outputs": [],
   "source": [
    "class Calculator:\n",
    "    def __init__(self, num1, num2):\n",
    "        self.num1= num1\n",
    "        self.num2=num2\n",
    "\n",
    "    def sum(self):\n",
    "        return self.num1+self.num2\n",
    "        "
   ]
  },
  {
   "cell_type": "code",
   "execution_count": 16,
   "id": "f7d89366-603a-4230-a9b2-9601a2301eb6",
   "metadata": {},
   "outputs": [],
   "source": [
    "    cal_obj = Calculator(10,4)"
   ]
  },
  {
   "cell_type": "code",
   "execution_count": 19,
   "id": "5461b735-8c88-4c87-b4c9-ae07e782b167",
   "metadata": {},
   "outputs": [
    {
     "data": {
      "text/plain": [
       "__main__.Calculator"
      ]
     },
     "execution_count": 19,
     "metadata": {},
     "output_type": "execute_result"
    }
   ],
   "source": [
    "type(cal_obj)"
   ]
  },
  {
   "cell_type": "code",
   "execution_count": 20,
   "id": "d3b9ff65-2060-4bc0-aa0c-e85c3b5b49df",
   "metadata": {},
   "outputs": [
    {
     "data": {
      "text/plain": [
       "14"
      ]
     },
     "execution_count": 20,
     "metadata": {},
     "output_type": "execute_result"
    }
   ],
   "source": [
    "cal_obj.sum()"
   ]
  },
  {
   "cell_type": "markdown",
   "id": "7a9f178d-7b9d-43d9-8195-ec8bf7f2dfd7",
   "metadata": {},
   "source": [
    "Attributes"
   ]
  },
  {
   "cell_type": "code",
   "execution_count": 29,
   "id": "8f24440c-72af-43a4-8d4f-74596bc33fcd",
   "metadata": {},
   "outputs": [],
   "source": [
    "class Person:\n",
    "    count = 0 #< Class attribute\n",
    "\n",
    "    def __init__(self, name: str, address: str = \"Kathmandu\"): #< Constructor/Initializer\n",
    "        \"\"\"\n",
    "        Creating a Person Class\n",
    "        \"\"\"\n",
    "        self.name = name\n",
    "        self.address = address\n",
    "\n",
    "        Person.count += 1\n",
    "\n",
    "    def get_details(self):\n",
    "        print(f\"I am {self.name} from {self.address}\")\n",
    "\n",
    "    @classmethod\n",
    "    def get_count(cls):#< class Method\n",
    "        return cls.count\n",
    "\n",
    "    @staticmethod\n",
    "    def creat_fullname(firstname,lastname): #< static methods\n",
    "        return f\"{lastname},{firstname}\"\n",
    "        "
   ]
  },
  {
   "cell_type": "markdown",
   "id": "fb2b4f49-c8ea-412e-b228-d36199688226",
   "metadata": {},
   "source": [
    "Library class with student and department\n",
    "method: can_burrow(book_name)\n",
    " \n",
    "books = [\n",
    "            (\"The Alchemist\", 25),\n",
    "            (\"The Da Vinci Code\", 30),\n",
    "            (\"A Brief History of Time\", 15),\n",
    "            (\"Angels & Demons\", 0),\n",
    "            (\"The Grand Design\", 0),\n",
    "            (\"1984\", 19)\n",
    "        ]\n",
    " "
   ]
  },
  {
   "cell_type": "code",
   "execution_count": null,
   "id": "fac44f20-ddd6-4ce7-a570-f4adacc453a2",
   "metadata": {},
   "outputs": [],
   "source": []
  }
 ],
 "metadata": {
  "kernelspec": {
   "display_name": "Python 3 (ipykernel)",
   "language": "python",
   "name": "python3"
  },
  "language_info": {
   "codemirror_mode": {
    "name": "ipython",
    "version": 3
   },
   "file_extension": ".py",
   "mimetype": "text/x-python",
   "name": "python",
   "nbconvert_exporter": "python",
   "pygments_lexer": "ipython3",
   "version": "3.13.3"
  }
 },
 "nbformat": 4,
 "nbformat_minor": 5
}
