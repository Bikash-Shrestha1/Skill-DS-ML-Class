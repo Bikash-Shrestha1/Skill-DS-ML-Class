{
 "cells": [
  {
   "cell_type": "code",
   "execution_count": 1,
   "id": "bc7c47f8-35eb-4e79-b9f7-a5d1620223c1",
   "metadata": {},
   "outputs": [],
   "source": [
    "def calculate_vol(l=8,b=7,h=9):\n",
    "    return l*b*h"
   ]
  },
  {
   "cell_type": "code",
   "execution_count": 2,
   "id": "b615ec1b-94e5-4a34-8f42-3a519cb6e7c5",
   "metadata": {},
   "outputs": [],
   "source": [
    "def print_kargs(**kwargs):\n",
    "    print(\"keywords Args\")\n",
    "    print(kwargs)\n"
   ]
  },
  {
   "cell_type": "code",
   "execution_count": 4,
   "id": "3d8e1bf0-bf46-4f29-9a08-5302e7a9cc32",
   "metadata": {},
   "outputs": [
    {
     "ename": "SyntaxError",
     "evalue": "unterminated string literal (detected at line 4) (2220029513.py, line 4)",
     "output_type": "error",
     "traceback": [
      "  \u001b[36mCell\u001b[39m\u001b[36m \u001b[39m\u001b[32mIn[4]\u001b[39m\u001b[32m, line 4\u001b[39m\n\u001b[31m    \u001b[39m\u001b[31m{'length':4,bredth':5}\u001b[39m\n                      ^\n\u001b[31mSyntaxError\u001b[39m\u001b[31m:\u001b[39m unterminated string literal (detected at line 4)\n"
     ]
    }
   ],
   "source": [
    "def print_kargs(**kwargs):\n",
    "print_kargs(length=4,bredth=5)\n",
    "keywords Args\n",
    "{'length':4,bredth':5}"
   ]
  },
  {
   "cell_type": "code",
   "execution_count": 5,
   "id": "115b3d3f-26ee-4ca1-810f-0f539214fa2e",
   "metadata": {},
   "outputs": [],
   "source": [
    "def print_arguments(*args, **kwargs):\n",
    "    print(\"position\")\n",
    "    print(args)\n",
    "    print(\".\"*50)\n",
    "    print(\"keywords\")\n",
    "    print(kwargs)"
   ]
  },
  {
   "cell_type": "code",
   "execution_count": 6,
   "id": "69f48f9e-03e9-457e-a212-16dd5a22b1e8",
   "metadata": {},
   "outputs": [
    {
     "name": "stdout",
     "output_type": "stream",
     "text": [
      "position\n",
      "('ram', 1, True)\n",
      "..................................................\n",
      "keywords\n",
      "{'score': [1, 4, 6], 'greet': 'Hello'}\n"
     ]
    }
   ],
   "source": [
    "print_arguments(\"ram\",1,True,score=[1,4,6],greet=\"Hello\")"
   ]
  },
  {
   "cell_type": "markdown",
   "id": "1a1fe972-8b29-4130-a4ef-0c5724ecdead",
   "metadata": {},
   "source": [
    "Documentation in Function"
   ]
  }
 ],
 "metadata": {
  "kernelspec": {
   "display_name": "Python 3 (ipykernel)",
   "language": "python",
   "name": "python3"
  },
  "language_info": {
   "codemirror_mode": {
    "name": "ipython",
    "version": 3
   },
   "file_extension": ".py",
   "mimetype": "text/x-python",
   "name": "python",
   "nbconvert_exporter": "python",
   "pygments_lexer": "ipython3",
   "version": "3.13.3"
  }
 },
 "nbformat": 4,
 "nbformat_minor": 5
}
