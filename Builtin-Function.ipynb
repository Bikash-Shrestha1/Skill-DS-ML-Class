{
 "cells": [
  {
   "cell_type": "code",
   "execution_count": 7,
   "id": "dbf4bcec-9bcf-4e79-9f1e-ad0ddfd04ab6",
   "metadata": {},
   "outputs": [],
   "source": [
    "file = open (\"message.txt\" , mode=\"w\")\n",
    "file.write(\"Welcome to DSML Class\")\n",
    "file.close()"
   ]
  },
  {
   "cell_type": "code",
   "execution_count": 8,
   "id": "909b5104-7bad-4767-a9f0-ba0d1ce094ae",
   "metadata": {},
   "outputs": [
    {
     "name": "stdout",
     "output_type": "stream",
     "text": [
      "Welcome to DSML Class\n"
     ]
    }
   ],
   "source": [
    "#Context Manager\n",
    "with open (\"message.txt\" , mode = \"r+\" ) as file:\n",
    "    print (file .read())\n",
    "    file.write(\" This is First Message\\n\")"
   ]
  },
  {
   "cell_type": "code",
   "execution_count": 10,
   "id": "1773d37a-18f4-40f5-88f8-5c262c16142f",
   "metadata": {},
   "outputs": [
    {
     "name": "stdout",
     "output_type": "stream",
     "text": [
      "\n"
     ]
    }
   ],
   "source": [
    "#Context Manager\n",
    "with open (\"message.txt\" , mode = \"w+\" ) as file:\n",
    "    print (file .read())\n",
    "    file.write(\" In the Beginning\\n\")"
   ]
  },
  {
   "cell_type": "code",
   "execution_count": 11,
   "id": "e6d3729f-6210-4e4e-a833-932e016161a7",
   "metadata": {},
   "outputs": [
    {
     "name": "stdout",
     "output_type": "stream",
     "text": [
      "\n"
     ]
    }
   ],
   "source": [
    "#Context Manager\n",
    "with open (\"message.txt\" , mode = \"a+\" ) as file:\n",
    "    print (file .read())\n",
    "    file.write(\" and end \\n\")"
   ]
  },
  {
   "cell_type": "code",
   "execution_count": 13,
   "id": "15297b63-ed35-48fb-b465-07e1ce93540b",
   "metadata": {},
   "outputs": [],
   "source": [
    "x= \"ram\""
   ]
  },
  {
   "cell_type": "code",
   "execution_count": 15,
   "id": "25e472da-c60b-40be-8f13-aee47bf1a217",
   "metadata": {},
   "outputs": [
    {
     "name": "stdout",
     "output_type": "stream",
     "text": [
      "['__add__', '__class__', '__contains__', '__delattr__', '__dir__', '__doc__', '__eq__', '__format__', '__ge__', '__getattribute__', '__getitem__', '__getnewargs__', '__getstate__', '__gt__', '__hash__', '__init__', '__init_subclass__', '__iter__', '__le__', '__len__', '__lt__', '__mod__', '__mul__', '__ne__', '__new__', '__reduce__', '__reduce_ex__', '__repr__', '__rmod__', '__rmul__', '__setattr__', '__sizeof__', '__str__', '__subclasshook__', 'capitalize', 'casefold', 'center', 'count', 'encode', 'endswith', 'expandtabs', 'find', 'format', 'format_map', 'index', 'isalnum', 'isalpha', 'isascii', 'isdecimal', 'isdigit', 'isidentifier', 'islower', 'isnumeric', 'isprintable', 'isspace', 'istitle', 'isupper', 'join', 'ljust', 'lower', 'lstrip', 'maketrans', 'partition', 'removeprefix', 'removesuffix', 'replace', 'rfind', 'rindex', 'rjust', 'rpartition', 'rsplit', 'rstrip', 'split', 'splitlines', 'startswith', 'strip', 'swapcase', 'title', 'translate', 'upper', 'zfill']\n"
     ]
    }
   ],
   "source": [
    "print (dir(x))"
   ]
  },
  {
   "cell_type": "code",
   "execution_count": 17,
   "id": "5bf27cea-2a4d-40b2-830b-68a508825ac3",
   "metadata": {},
   "outputs": [
    {
     "data": {
      "text/plain": [
       "'RAM'"
      ]
     },
     "execution_count": 17,
     "metadata": {},
     "output_type": "execute_result"
    }
   ],
   "source": [
    "x.upper()"
   ]
  },
  {
   "cell_type": "code",
   "execution_count": 20,
   "id": "607e21d4-ea71-4703-9517-b63a61399ace",
   "metadata": {},
   "outputs": [
    {
     "data": {
      "text/plain": [
       "'#%danish'"
      ]
     },
     "execution_count": 20,
     "metadata": {},
     "output_type": "execute_result"
    }
   ],
   "source": [
    "\"#%danish\".rstrip(\"#%\")"
   ]
  },
  {
   "cell_type": "code",
   "execution_count": 16,
   "id": "72d5fbab-8a60-4023-8832-5d1bb01067ea",
   "metadata": {},
   "outputs": [
    {
     "name": "stdout",
     "output_type": "stream",
     "text": [
      "['__add__', '__class__', '__contains__', '__delattr__', '__dir__', '__doc__', '__eq__', '__format__', '__ge__', '__getattribute__', '__getitem__', '__getnewargs__', '__getstate__', '__gt__', '__hash__', '__init__', '__init_subclass__', '__iter__', '__le__', '__len__', '__lt__', '__mod__', '__mul__', '__ne__', '__new__', '__reduce__', '__reduce_ex__', '__repr__', '__rmod__', '__rmul__', '__setattr__', '__sizeof__', '__str__', '__subclasshook__', 'capitalize', 'casefold', 'center', 'count', 'encode', 'endswith', 'expandtabs', 'find', 'format', 'format_map', 'index', 'isalnum', 'isalpha', 'isascii', 'isdecimal', 'isdigit', 'isidentifier', 'islower', 'isnumeric', 'isprintable', 'isspace', 'istitle', 'isupper', 'join', 'ljust', 'lower', 'lstrip', 'maketrans', 'partition', 'removeprefix', 'removesuffix', 'replace', 'rfind', 'rindex', 'rjust', 'rpartition', 'rsplit', 'rstrip', 'split', 'splitlines', 'startswith', 'strip', 'swapcase', 'title', 'translate', 'upper', 'zfill']\n"
     ]
    }
   ],
   "source": [
    "i=1\n",
    "print(dir(x))"
   ]
  },
  {
   "cell_type": "markdown",
   "id": "5abb7efc-295c-4a1e-9391-31eea88dfebd",
   "metadata": {},
   "source": [
    "enumerate()"
   ]
  },
  {
   "cell_type": "code",
   "execution_count": 25,
   "id": "d26d819c-5ec9-48c3-af9f-319fbbddfd54",
   "metadata": {},
   "outputs": [],
   "source": [
    "name = (\"Alice\",\"bob\",\"harris\")"
   ]
  },
  {
   "cell_type": "code",
   "execution_count": 26,
   "id": "4045d566-8930-4e90-aa78-c34b04ec93a3",
   "metadata": {},
   "outputs": [
    {
     "data": {
      "text/plain": [
       "[(0, 'Alice'), (1, 'bob'), (2, 'harris')]"
      ]
     },
     "execution_count": 26,
     "metadata": {},
     "output_type": "execute_result"
    }
   ],
   "source": [
    "list(enumerate(name))"
   ]
  },
  {
   "cell_type": "code",
   "execution_count": 28,
   "id": "af44a8d5-35f2-41c5-8849-07602854af3b",
   "metadata": {},
   "outputs": [
    {
     "name": "stdout",
     "output_type": "stream",
     "text": [
      "Alice : Roll 0\n",
      "bob : Roll 1\n",
      "harris : Roll 2\n"
     ]
    }
   ],
   "source": [
    "for (i,name) in enumerate(name):\n",
    "    print(f\"{name} : Roll {i}\")"
   ]
  },
  {
   "cell_type": "code",
   "execution_count": 29,
   "id": "dec57b83-b7ed-48c7-821f-f2b69a80d023",
   "metadata": {},
   "outputs": [],
   "source": [
    "names = [\"Ram\",\"Shyam\",\"Hari\",\"Bir\",\"Rin\"]\n",
    "score = [4,2,3,5,6]"
   ]
  },
  {
   "cell_type": "markdown",
   "id": "a848ed9d-e825-4d36-8f5e-a42dec667c26",
   "metadata": {},
   "source": [
    "zip()"
   ]
  },
  {
   "cell_type": "code",
   "execution_count": 30,
   "id": "58981ce3-2aa3-4b23-bed9-8c9f07d5fd40",
   "metadata": {},
   "outputs": [
    {
     "data": {
      "text/plain": [
       "[('Ram', 4), ('Shyam', 2), ('Hari', 3), ('Bir', 5), ('Rin', 6)]"
      ]
     },
     "execution_count": 30,
     "metadata": {},
     "output_type": "execute_result"
    }
   ],
   "source": [
    "list(zip(names,score))"
   ]
  },
  {
   "cell_type": "code",
   "execution_count": 31,
   "id": "a1b4e4a0-9481-44cd-ae19-beb12d2278f6",
   "metadata": {},
   "outputs": [
    {
     "name": "stdout",
     "output_type": "stream",
     "text": [
      "Ram->4\n",
      "Shyam->2\n",
      "Hari->3\n",
      "Bir->5\n",
      "Rin->6\n"
     ]
    }
   ],
   "source": [
    "for (player,s) in zip (names,score):\n",
    "    print(player,s,sep=\"->\")"
   ]
  },
  {
   "cell_type": "code",
   "execution_count": 36,
   "id": "cdfe5c5f-2ede-472a-9055-9b2b9ad46c76",
   "metadata": {},
   "outputs": [
    {
     "data": {
      "text/plain": [
       "{('H', 2, 'u'), ('a', 5, 'i'), ('r', 6, 'a')}"
      ]
     },
     "execution_count": 36,
     "metadata": {},
     "output_type": "execute_result"
    }
   ],
   "source": [
    "name=\"Hari\"\n",
    "list1=[2,5,6]\n",
    "set1=set(\"aeiou\")\n",
    "set (zip(name,list1,set1))"
   ]
  },
  {
   "cell_type": "code",
   "execution_count": 37,
   "id": "14140fa6-f6af-47f0-b293-3e27670c56c7",
   "metadata": {},
   "outputs": [
    {
     "data": {
      "text/plain": [
       "[('H', 2, 'u'), ('a', 5, 'i'), ('r', 6, 'a')]"
      ]
     },
     "execution_count": 37,
     "metadata": {},
     "output_type": "execute_result"
    }
   ],
   "source": [
    "list(zip(name,list1,set1))"
   ]
  },
  {
   "cell_type": "markdown",
   "id": "7d9fca91-bf62-4d4b-a693-453eb2541907",
   "metadata": {},
   "source": [
    "map()"
   ]
  },
  {
   "cell_type": "code",
   "execution_count": 40,
   "id": "f08e6baf-10e0-483d-a2ad-b7fa66ffbbb7",
   "metadata": {},
   "outputs": [],
   "source": [
    "def mult(x):\n",
    "    return x *2"
   ]
  },
  {
   "cell_type": "code",
   "execution_count": 41,
   "id": "b86d4edc-6bd6-4494-89f4-a00691061b9b",
   "metadata": {},
   "outputs": [],
   "source": [
    "numbers=[2,4,6,8,0]\n",
    "map_obj = map(mult,numbers)"
   ]
  },
  {
   "cell_type": "code",
   "execution_count": 42,
   "id": "d55c6b29-008d-4896-a642-e768394202e1",
   "metadata": {},
   "outputs": [
    {
     "data": {
      "text/plain": [
       "[4, 8, 12, 16, 0]"
      ]
     },
     "execution_count": 42,
     "metadata": {},
     "output_type": "execute_result"
    }
   ],
   "source": [
    "[a for a in map_obj]"
   ]
  },
  {
   "cell_type": "markdown",
   "id": "6ebf5f4f-0758-496d-9020-ef4eff3b6fff",
   "metadata": {},
   "source": [
    "filter"
   ]
  },
  {
   "cell_type": "code",
   "execution_count": 44,
   "id": "e5dd4ad2-a4c7-438c-8dd6-8ee39ab70f8e",
   "metadata": {},
   "outputs": [],
   "source": [
    "def even(num):\n",
    "    return num%2==0"
   ]
  },
  {
   "cell_type": "code",
   "execution_count": 45,
   "id": "a92f06cb-9988-45d8-9b56-dbdf01c30f66",
   "metadata": {},
   "outputs": [
    {
     "data": {
      "text/plain": [
       "[4, 6, 8]"
      ]
     },
     "execution_count": 45,
     "metadata": {},
     "output_type": "execute_result"
    }
   ],
   "source": [
    "f_obj =filter(even,[1,3,4,6,8,9])\n",
    "list(f_obj)"
   ]
  },
  {
   "cell_type": "markdown",
   "id": "cfc31940-2d05-426b-8075-cf4087b15a4a",
   "metadata": {},
   "source": [
    "reduce"
   ]
  },
  {
   "cell_type": "code",
   "execution_count": 47,
   "id": "2786d992-7e67-4f50-ab94-8aab995bb03e",
   "metadata": {},
   "outputs": [],
   "source": [
    "from functools import reduce\n",
    "mylist=[1,2,3,4,5]"
   ]
  },
  {
   "cell_type": "code",
   "execution_count": 51,
   "id": "a649e41b-b850-414e-9d4f-3dacc4da499e",
   "metadata": {},
   "outputs": [],
   "source": [
    "def add(x,y):\n",
    "    return x*y"
   ]
  },
  {
   "cell_type": "code",
   "execution_count": 54,
   "id": "065cccd5-3e99-4907-94c5-9f866eafbc43",
   "metadata": {},
   "outputs": [
    {
     "data": {
      "text/plain": [
       "376.8"
      ]
     },
     "execution_count": 54,
     "metadata": {},
     "output_type": "execute_result"
    }
   ],
   "source": [
    "red_obj = reduce(add,mylist,3.14)\n",
    "red_obj"
   ]
  },
  {
   "cell_type": "code",
   "execution_count": 59,
   "id": "bba27e2b-cb1c-4be8-8bc4-606210b67370",
   "metadata": {},
   "outputs": [
    {
     "ename": "SyntaxError",
     "evalue": "invalid syntax (2423050539.py, line 4)",
     "output_type": "error",
     "traceback": [
      "  \u001b[36mCell\u001b[39m\u001b[36m \u001b[39m\u001b[32mIn[59]\u001b[39m\u001b[32m, line 4\u001b[39m\n\u001b[31m    \u001b[39m\u001b[31mscores[sum(score) for score in zip(team_a,team_b)]\u001b[39m\n                      ^\n\u001b[31mSyntaxError\u001b[39m\u001b[31m:\u001b[39m invalid syntax\n"
     ]
    }
   ],
   "source": [
    "team_a = [10,20,30]\n",
    "team_b = [15,25,35]\n",
    "#output: [25,45,65]\n",
    "scores[sum(score) for score in zip(team_a,team_b)]\n",
    "scores"
   ]
  },
  {
   "cell_type": "code",
   "execution_count": 56,
   "id": "07e5765b-435b-4c92-8773-470ce6d5fcfb",
   "metadata": {},
   "outputs": [
    {
     "name": "stdout",
     "output_type": "stream",
     "text": [
      "[25, 45, 65]\n"
     ]
    }
   ],
   "source": [
    "team_a = [10, 20, 30]\n",
    "team_b = [15, 25, 35]\n",
    "\n",
    "result = [a + b for a, b in zip(team_a, team_b)]\n",
    "print(result)"
   ]
  },
  {
   "cell_type": "code",
   "execution_count": null,
   "id": "d870479b-58e3-4282-9a85-97e6ca627175",
   "metadata": {},
   "outputs": [],
   "source": []
  }
 ],
 "metadata": {
  "kernelspec": {
   "display_name": "Python 3 (ipykernel)",
   "language": "python",
   "name": "python3"
  },
  "language_info": {
   "codemirror_mode": {
    "name": "ipython",
    "version": 3
   },
   "file_extension": ".py",
   "mimetype": "text/x-python",
   "name": "python",
   "nbconvert_exporter": "python",
   "pygments_lexer": "ipython3",
   "version": "3.13.3"
  }
 },
 "nbformat": 4,
 "nbformat_minor": 5
}
