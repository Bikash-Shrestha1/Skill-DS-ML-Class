{
 "cells": [
  {
   "cell_type": "code",
   "execution_count": 6,
   "id": "fd3f5479-a422-49a4-8057-b092380e2e7b",
   "metadata": {},
   "outputs": [
    {
     "name": "stdout",
     "output_type": "stream",
     "text": [
      "inside in block\n",
      "55 is greater than 0\n",
      "outside if block\n"
     ]
    }
   ],
   "source": [
    "x=55\n",
    "if x > 0:\n",
    "    print(\"inside in block\")\n",
    "    print(f\"{x} is greater than 0\")\n",
    "\n",
    "print(\"outside if block\")"
   ]
  },
  {
   "cell_type": "code",
   "execution_count": 5,
   "id": "a729619b-90f1-41f9-b980-e8a945bcaa16",
   "metadata": {},
   "outputs": [
    {
     "name": "stdout",
     "output_type": "stream",
     "text": [
      "outside if block\n"
     ]
    }
   ],
   "source": [
    "x=-55\n",
    "if x > 0:\n",
    "    print(\"inside in block\")\n",
    "    print(f\"{x} is greater than 0\")\n",
    "\n",
    "print(\"outside if block\")"
   ]
  },
  {
   "cell_type": "code",
   "execution_count": 7,
   "id": "b4f75f12-17ca-4736-8a90-bb0c7126cab5",
   "metadata": {},
   "outputs": [],
   "source": [
    "x=5\n",
    "y=-5\n",
    "if x>0 and y>0:\n",
    "    print(\"Both are positive\")\n"
   ]
  },
  {
   "cell_type": "code",
   "execution_count": 8,
   "id": "d83e6767-c367-4edb-9f80-14ad5ad80ae3",
   "metadata": {},
   "outputs": [
    {
     "name": "stdout",
     "output_type": "stream",
     "text": [
      "odd\n"
     ]
    }
   ],
   "source": [
    "x=33\n",
    "if x%2 == 0:\n",
    "    print(\"even\")\n",
    "\n",
    "else: \n",
    "    print(\"odd\")"
   ]
  },
  {
   "cell_type": "code",
   "execution_count": 12,
   "id": "f005e873-efb9-4ea1-b0c1-41b889ff2d13",
   "metadata": {},
   "outputs": [
    {
     "name": "stdout",
     "output_type": "stream",
     "text": [
      "It is palindrome\n"
     ]
    }
   ],
   "source": [
    "a='madam'\n",
    "if a==a[::-1]:\n",
    "    print (\"It is palindrome\")\n",
    "else:\n",
    "    print(\"it is not palindrome\")"
   ]
  },
  {
   "cell_type": "code",
   "execution_count": 14,
   "id": "88b394a1-9287-497b-859b-e152e1afd086",
   "metadata": {},
   "outputs": [
    {
     "name": "stdout",
     "output_type": "stream",
     "text": [
      "x is positive\n"
     ]
    }
   ],
   "source": [
    "x=6\n",
    "if x<0:\n",
    "    print(\"x is negative\")\n",
    "\n",
    "elif x == 0:\n",
    "          print(\"x is zero\")\n",
    "else:\n",
    "    print(\"x is positive\")\n",
    "\n",
    "    "
   ]
  },
  {
   "cell_type": "code",
   "execution_count": 25,
   "id": "3ebef491-953e-458d-8599-d5d4fca60e46",
   "metadata": {},
   "outputs": [
    {
     "name": "stdout",
     "output_type": "stream",
     "text": [
      "grade A\n"
     ]
    }
   ],
   "source": [
    "x=80\n",
    "if x>=80:\n",
    "    print(\"grade A\")\n",
    "elif 60<=x<80:\n",
    "    print(\"grade B\")\n",
    "elif 40<=x<60:\n",
    "    print(\"grade C\")\n",
    "elif 20<=x<40:\n",
    "    print(\"grade D\")\n",
    "elif x<20:\n",
    "    print(\"No Grade\")"
   ]
  },
  {
   "cell_type": "markdown",
   "id": "20931bef-f6cf-45e1-91a9-a72247b53364",
   "metadata": {},
   "source": [
    "#Nested if ..else"
   ]
  },
  {
   "cell_type": "code",
   "execution_count": 29,
   "id": "4ffa47d8-c398-4b72-a9ad-fe81d8a23cb9",
   "metadata": {},
   "outputs": [
    {
     "name": "stdout",
     "output_type": "stream",
     "text": [
      "Enter positive Value\n"
     ]
    }
   ],
   "source": [
    "grade = -15\n",
    "if grade>0:\n",
    "    if grade > 80 :\n",
    "        print(\"Grade A\")\n",
    "\n",
    "    else:\n",
    "        print(\"grade Other\")\n",
    "else:\n",
    "    print(\"Enter positive Value\")\n",
    "        "
   ]
  },
  {
   "cell_type": "code",
   "execution_count": null,
   "id": "5726351e-73c1-4186-ab69-fa2731ea08f0",
   "metadata": {},
   "outputs": [],
   "source": []
  }
 ],
 "metadata": {
  "kernelspec": {
   "display_name": "Python 3 (ipykernel)",
   "language": "python",
   "name": "python3"
  },
  "language_info": {
   "codemirror_mode": {
    "name": "ipython",
    "version": 3
   },
   "file_extension": ".py",
   "mimetype": "text/x-python",
   "name": "python",
   "nbconvert_exporter": "python",
   "pygments_lexer": "ipython3",
   "version": "3.13.3"
  }
 },
 "nbformat": 4,
 "nbformat_minor": 5
}
