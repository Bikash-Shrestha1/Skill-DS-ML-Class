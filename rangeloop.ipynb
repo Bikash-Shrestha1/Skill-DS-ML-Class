{
 "cells": [
  {
   "cell_type": "markdown",
   "id": "89697bbb-5d85-4af1-a396-de22fb3c5f93",
   "metadata": {},
   "source": [
    "Python Loop Statements"
   ]
  },
  {
   "cell_type": "code",
   "execution_count": 2,
   "id": "a0fbe278-f4d0-45e5-8a87-756674ee0396",
   "metadata": {},
   "outputs": [],
   "source": [
    "fruits = ['apple','banana','cherry']"
   ]
  },
  {
   "cell_type": "code",
   "execution_count": 5,
   "id": "45ebd66a-39a0-4ba8-95e8-a404dd456c6a",
   "metadata": {},
   "outputs": [
    {
     "name": "stdout",
     "output_type": "stream",
     "text": [
      "Fruit apple\n",
      "Fruit banana\n",
      "Fruit cherry\n",
      "completed\n"
     ]
    }
   ],
   "source": [
    "for each in fruits:\n",
    "    print(f\"Fruit {each}\")\n",
    "\n",
    "print(\"completed\")"
   ]
  },
  {
   "cell_type": "raw",
   "id": "b86fd5af-f4f5-46f8-a47c-78d240636062",
   "metadata": {},
   "source": [
    "\n"
   ]
  },
  {
   "cell_type": "code",
   "execution_count": 6,
   "id": "60b4eb55-aa4c-4ecc-8d89-5de3978c2fab",
   "metadata": {},
   "outputs": [
    {
     "name": "stdout",
     "output_type": "stream",
     "text": [
      "H\n",
      "e\n",
      "l\n",
      "l\n",
      "o\n"
     ]
    }
   ],
   "source": [
    "for ch in \"Hello\":\n",
    "    print(ch)"
   ]
  },
  {
   "cell_type": "markdown",
   "id": "42f08bab-1350-481b-b180-d839355cd326",
   "metadata": {},
   "source": [
    "Range"
   ]
  },
  {
   "cell_type": "code",
   "execution_count": 7,
   "id": "88ce2b8f-29ee-463d-b1ae-2d2ee3ab0e94",
   "metadata": {},
   "outputs": [
    {
     "data": {
      "text/plain": [
       "[0, 1, 2, 3, 4, 5, 6, 7, 8, 9]"
      ]
     },
     "execution_count": 7,
     "metadata": {},
     "output_type": "execute_result"
    }
   ],
   "source": [
    "list(range(10))"
   ]
  },
  {
   "cell_type": "code",
   "execution_count": 9,
   "id": "71899ad1-233a-4570-824d-6d11b1c9cbae",
   "metadata": {},
   "outputs": [
    {
     "data": {
      "text/plain": [
       "[10, 15, 20, 25, 30, 35, 40, 45, 50, 55, 60, 65, 70, 75, 80, 85, 90, 95, 100]"
      ]
     },
     "execution_count": 9,
     "metadata": {},
     "output_type": "execute_result"
    }
   ],
   "source": [
    "list(range(10,101,5))"
   ]
  },
  {
   "cell_type": "raw",
   "id": "4ab59a00-f76e-4620-9f0c-a87ebd037d67",
   "metadata": {},
   "source": [
    "\n"
   ]
  },
  {
   "cell_type": "code",
   "execution_count": 23,
   "id": "ee2f7c4d-888f-4b39-871d-3b4f636694a0",
   "metadata": {},
   "outputs": [
    {
     "name": "stdout",
     "output_type": "stream",
     "text": [
      "*\n",
      "**\n",
      "***\n",
      "****\n",
      "*****\n"
     ]
    }
   ],
   "source": [
    "for i in range (1,6):\n",
    "    print (\"*\"*i)"
   ]
  },
  {
   "cell_type": "code",
   "execution_count": 24,
   "id": "55e1f611-4628-4ab9-89e0-0b5c4ac8fad6",
   "metadata": {},
   "outputs": [
    {
     "name": "stdout",
     "output_type": "stream",
     "text": [
      "*****\n",
      "****\n",
      "***\n",
      "**\n",
      "*\n"
     ]
    }
   ],
   "source": [
    "for i in range (5,0,-1):\n",
    "    print (\"*\"*i)"
   ]
  },
  {
   "cell_type": "markdown",
   "id": "4406ee0b-42d7-49e7-9a0b-f9dda02149c7",
   "metadata": {},
   "source": [
    "Nested"
   ]
  },
  {
   "cell_type": "code",
   "execution_count": 25,
   "id": "74b25b5c-e4ac-41d9-a4df-9dde7d578e14",
   "metadata": {},
   "outputs": [],
   "source": [
    "adj = ['red','big','tasty']\n",
    "fruits = ['apple','banana','cherry']"
   ]
  },
  {
   "cell_type": "code",
   "execution_count": 29,
   "id": "9c615218-0abb-4bb7-9ce7-2774387da069",
   "metadata": {},
   "outputs": [
    {
     "name": "stdout",
     "output_type": "stream",
     "text": [
      "red apple\n",
      "red banana\n",
      "red cherry\n",
      "big apple\n",
      "big banana\n",
      "big cherry\n",
      "tasty apple\n",
      "tasty banana\n",
      "tasty cherry\n"
     ]
    }
   ],
   "source": [
    "for a in adj:\n",
    "    for f in fruits:\n",
    "        print(a,f)"
   ]
  },
  {
   "cell_type": "code",
   "execution_count": null,
   "id": "2204790f-c0d1-432b-b807-830cbd998a8d",
   "metadata": {},
   "outputs": [],
   "source": []
  }
 ],
 "metadata": {
  "kernelspec": {
   "display_name": "Python 3 (ipykernel)",
   "language": "python",
   "name": "python3"
  },
  "language_info": {
   "codemirror_mode": {
    "name": "ipython",
    "version": 3
   },
   "file_extension": ".py",
   "mimetype": "text/x-python",
   "name": "python",
   "nbconvert_exporter": "python",
   "pygments_lexer": "ipython3",
   "version": "3.13.3"
  }
 },
 "nbformat": 4,
 "nbformat_minor": 5
}
