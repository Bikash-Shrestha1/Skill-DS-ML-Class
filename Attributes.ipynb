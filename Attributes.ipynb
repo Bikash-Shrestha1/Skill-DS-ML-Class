{
 "cells": [
  {
   "cell_type": "markdown",
   "id": "5e61e51c-5ebd-48e7-91a6-6f52da4ff897",
   "metadata": {},
   "source": [
    "Type of Attributes"
   ]
  },
  {
   "cell_type": "code",
   "execution_count": null,
   "id": "aa86f2f9-82b4-4a95-b5b6-d4df8aa483cc",
   "metadata": {},
   "outputs": [],
   "source": [
    "__"
   ]
  }
 ],
 "metadata": {
  "kernelspec": {
   "display_name": "Python 3 (ipykernel)",
   "language": "python",
   "name": "python3"
  },
  "language_info": {
   "codemirror_mode": {
    "name": "ipython",
    "version": 3
   },
   "file_extension": ".py",
   "mimetype": "text/x-python",
   "name": "python",
   "nbconvert_exporter": "python",
   "pygments_lexer": "ipython3",
   "version": "3.13.3"
  }
 },
 "nbformat": 4,
 "nbformat_minor": 5
}
