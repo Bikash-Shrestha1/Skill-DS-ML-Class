{
 "cells": [
  {
   "cell_type": "markdown",
   "id": "ab4c63be-e76e-4a0b-83db-0a1568e0ef77",
   "metadata": {},
   "source": [
    "Inheritance in Python"
   ]
  },
  {
   "cell_type": "code",
   "execution_count": 3,
   "id": "57a0bc0e-312f-4214-a073-d706032ccf1e",
   "metadata": {},
   "outputs": [],
   "source": [
    "class Animal:\n",
    "    def __init__(self,name,age):\n",
    "        self.name = name\n",
    "        self.age = age\n",
    "    def intro(self):\n",
    "        print(f\"My name is {self.name}\")\n",
    "    "
   ]
  },
  {
   "cell_type": "code",
   "execution_count": 4,
   "id": "b612ee44-1ea1-4555-b879-81635cba489a",
   "metadata": {},
   "outputs": [],
   "source": [
    "class Cat(Animal):\n",
    "    def __int__(self,name,age,color):\n",
    "        super().init__(name,age)\n",
    "        self.color=color\n",
    "\n",
    "    def speak(self):\n",
    "        print(\"meow\")"
   ]
  },
  {
   "cell_type": "code",
   "execution_count": 6,
   "id": "1c909635-0e0c-44b1-a282-7ad586046c99",
   "metadata": {},
   "outputs": [
    {
     "ename": "TypeError",
     "evalue": "Animal.__init__() takes 3 positional arguments but 4 were given",
     "output_type": "error",
     "traceback": [
      "\u001b[31m---------------------------------------------------------------------------\u001b[39m",
      "\u001b[31mTypeError\u001b[39m                                 Traceback (most recent call last)",
      "\u001b[36mCell\u001b[39m\u001b[36m \u001b[39m\u001b[32mIn[6]\u001b[39m\u001b[32m, line 1\u001b[39m\n\u001b[32m----> \u001b[39m\u001b[32m1\u001b[39m cat = \u001b[43mCat\u001b[49m\u001b[43m(\u001b[49m\u001b[33;43m\"\u001b[39;49m\u001b[33;43mFluppy\u001b[39;49m\u001b[33;43m\"\u001b[39;49m\u001b[43m,\u001b[49m\u001b[43m \u001b[49m\u001b[32;43m3\u001b[39;49m\u001b[43m \u001b[49m\u001b[43m,\u001b[49m\u001b[43m \u001b[49m\u001b[33;43m\"\u001b[39;49m\u001b[33;43mGrey\u001b[39;49m\u001b[33;43m\"\u001b[39;49m\u001b[43m)\u001b[49m\n",
      "\u001b[31mTypeError\u001b[39m: Animal.__init__() takes 3 positional arguments but 4 were given"
     ]
    }
   ],
   "source": [
    "cat = Cat(\"Fluppy\", 3 , \"Grey\")"
   ]
  },
  {
   "cell_type": "code",
   "execution_count": 7,
   "id": "52f9166f-045d-476e-9de0-50d73d35b0a3",
   "metadata": {},
   "outputs": [],
   "source": [
    "class Parent1:\n",
    "    def funcl(self):\n",
    "        print(\"this is parent 1\")\n",
    "class Parent2:\n",
    "    def func2(self):\n",
    "        print (\"this is parent 2\")\n",
    "class Parent3:\n",
    "    def func2(self):\n",
    "        print(\"This is child function\")\n",
    "    "
   ]
  },
  {
   "cell_type": "code",
   "execution_count": 10,
   "id": "372b3cad-6024-4748-a8aa-9383c9092880",
   "metadata": {},
   "outputs": [],
   "source": [
    "class Child (Parent1, Parent2, Parent3):\n",
    "    def func4(self):\n",
    "        print(\"This is child function\")"
   ]
  },
  {
   "cell_type": "code",
   "execution_count": 11,
   "id": "04a2cc4d-bd8f-4ecf-909f-ea7359f25c0d",
   "metadata": {},
   "outputs": [],
   "source": [
    "obj = Child()"
   ]
  },
  {
   "cell_type": "code",
   "execution_count": 13,
   "id": "fb1e39ed-4b53-452e-abaa-dbf539c52efb",
   "metadata": {},
   "outputs": [
    {
     "ename": "AttributeError",
     "evalue": "'Child' object has no attribute 'func1'",
     "output_type": "error",
     "traceback": [
      "\u001b[31m---------------------------------------------------------------------------\u001b[39m",
      "\u001b[31mAttributeError\u001b[39m                            Traceback (most recent call last)",
      "\u001b[36mCell\u001b[39m\u001b[36m \u001b[39m\u001b[32mIn[13]\u001b[39m\u001b[32m, line 1\u001b[39m\n\u001b[32m----> \u001b[39m\u001b[32m1\u001b[39m \u001b[43mobj\u001b[49m\u001b[43m.\u001b[49m\u001b[43mfunc1\u001b[49m()\n",
      "\u001b[31mAttributeError\u001b[39m: 'Child' object has no attribute 'func1'"
     ]
    }
   ],
   "source": [
    "obj.func1()"
   ]
  },
  {
   "cell_type": "code",
   "execution_count": null,
   "id": "fd7e663e-7927-4764-9335-97b7ef998cae",
   "metadata": {},
   "outputs": [],
   "source": []
  },
  {
   "cell_type": "code",
   "execution_count": null,
   "id": "ce1afe9b-f79c-4ccf-a354-5603204e72f6",
   "metadata": {},
   "outputs": [],
   "source": []
  }
 ],
 "metadata": {
  "kernelspec": {
   "display_name": "Python 3 (ipykernel)",
   "language": "python",
   "name": "python3"
  },
  "language_info": {
   "codemirror_mode": {
    "name": "ipython",
    "version": 3
   },
   "file_extension": ".py",
   "mimetype": "text/x-python",
   "name": "python",
   "nbconvert_exporter": "python",
   "pygments_lexer": "ipython3",
   "version": "3.13.3"
  }
 },
 "nbformat": 4,
 "nbformat_minor": 5
}
