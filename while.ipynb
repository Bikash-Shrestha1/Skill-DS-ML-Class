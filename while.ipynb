{
 "cells": [
  {
   "cell_type": "markdown",
   "id": "2c571a7a-b0f9-469b-8a45-e1a4a6fd23d7",
   "metadata": {},
   "source": [
    "Multiple"
   ]
  },
  {
   "cell_type": "code",
   "execution_count": 1,
   "id": "ca0f1dda-a373-4458-8f52-578bbe25ed87",
   "metadata": {},
   "outputs": [
    {
     "data": {
      "text/plain": [
       "[('name', 'vince'), ('age', '30'), ('gender', 'male')]"
      ]
     },
     "execution_count": 1,
     "metadata": {},
     "output_type": "execute_result"
    }
   ],
   "source": [
    "person = {\n",
    "    \"name\" : \"vince\",\n",
    "    \"age\" : \"30\",\n",
    "    \"gender\" : \"male\"\n",
    "}\n",
    "person_list = list(person.items())\n",
    "person_list"
   ]
  },
  {
   "cell_type": "code",
   "execution_count": 2,
   "id": "d46b899b-dd39-47f8-b92a-80d88e5528d1",
   "metadata": {},
   "outputs": [
    {
     "name": "stdout",
     "output_type": "stream",
     "text": [
      "('name', 'vince')\n",
      "('age', '30')\n",
      "('gender', 'male')\n"
     ]
    }
   ],
   "source": [
    "for each in person_list:\n",
    "    print(each)"
   ]
  },
  {
   "cell_type": "code",
   "execution_count": 3,
   "id": "8c0accc3-bc4e-4341-b058-758c9fb82e8d",
   "metadata": {},
   "outputs": [
    {
     "name": "stdout",
     "output_type": "stream",
     "text": [
      "key:name=vince\n",
      "key:age=30\n",
      "key:gender=male\n"
     ]
    }
   ],
   "source": [
    "for (key,value) in person_list:\n",
    "    print(f\"key:{key}={value}\")"
   ]
  },
  {
   "cell_type": "code",
   "execution_count": 8,
   "id": "28445eaa-5ee2-4e3c-a569-a0a2255b4c1e",
   "metadata": {},
   "outputs": [
    {
     "name": "stdout",
     "output_type": "stream",
     "text": [
      "[[1, 2, 3], [4, 5, 6], [2, 4, 9]]\n"
     ]
    }
   ],
   "source": [
    "cord=[[1,2,3],[4,5,6],[2,4,9]]\n",
    "print (cord)"
   ]
  },
  {
   "cell_type": "code",
   "execution_count": 9,
   "id": "6ce02281-8133-45f7-a58e-1db49e2fe9e0",
   "metadata": {},
   "outputs": [
    {
     "name": "stdout",
     "output_type": "stream",
     "text": [
      "1 2 3\n",
      "4 5 6\n",
      "2 4 9\n"
     ]
    }
   ],
   "source": [
    "for (x,y,z) in cord:\n",
    "    print (x,y,z)"
   ]
  },
  {
   "cell_type": "markdown",
   "id": "7fd7b2b6-7a83-41b9-972f-8e17fee14b67",
   "metadata": {},
   "source": [
    "Display the Multipication Table"
   ]
  },
  {
   "cell_type": "code",
   "execution_count": null,
   "id": "62c1bba5-9d55-44da-a99a-b30334b247a6",
   "metadata": {},
   "outputs": [],
   "source": [
    "i = int (input(\"Enter a number\"))\n",
    "for x in range (1,11):\n",
    "    print(f\"{i}*{x} = {x*i}\")\n"
   ]
  },
  {
   "cell_type": "markdown",
   "id": "bfacaf80-847c-4555-8906-e9796bef1595",
   "metadata": {},
   "source": [
    "Odd and Even"
   ]
  },
  {
   "cell_type": "code",
   "execution_count": 21,
   "id": "c080b883-4262-4063-89d0-c2221a331116",
   "metadata": {},
   "outputs": [
    {
     "name": "stdout",
     "output_type": "stream",
     "text": [
      "Even Numbers: [2, 8, 14, 16, 162]\n",
      "Odd Numbers: [15, 63, 5, 9, 23, 45]\n"
     ]
    }
   ],
   "source": [
    "# Given list of numbers\n",
    "number = [2, 15, 63, 5, 8, 9, 23, 14, 16, 45, 162]\n",
    "\n",
    "# Separate into even and odd\n",
    "even_numbers = []\n",
    "odd_numbers = []\n",
    "\n",
    "for num in number:\n",
    "    if num % 2 == 0:\n",
    "        even_numbers.append(num)\n",
    "    else:\n",
    "        odd_numbers.append(num)\n",
    "\n",
    "# Display the results\n",
    "print(\"Even Numbers:\", even_numbers)\n",
    "print(\"Odd Numbers:\", odd_numbers)"
   ]
  },
  {
   "cell_type": "code",
   "execution_count": null,
   "id": "4ac69067-78db-473f-9427-b2ee5f1b230c",
   "metadata": {},
   "outputs": [],
   "source": [
    "odd,even=[],[]\n",
    "number = [2, 15, 63, 5, 8, 9, 23, 14, 16, 45, 162]\n",
    "for num in number:\n",
    "    if num%2==0:\n",
    "        even.append(num)\n",
    "    else:\n",
    "        odd.append(num)\n",
    "\n",
    "print(f\"Even Numbers are:{even}\")\n",
    "print(f\"Odd Numbers are:{odd}\")"
   ]
  },
  {
   "cell_type": "markdown",
   "id": "5269f6d9-cf1f-407c-a590-95eb8f3c08da",
   "metadata": {},
   "source": [
    "while loop"
   ]
  },
  {
   "cell_type": "code",
   "execution_count": null,
   "id": "9d2f9eba-d9d5-4f22-810e-33654ba8b4c6",
   "metadata": {},
   "outputs": [],
   "source": [
    "i = 0\n",
    "\n",
    "while i < 5:\n",
    "    print(i)\n",
    "    i += 1\n",
    "\n",
    "    "
   ]
  },
  {
   "cell_type": "markdown",
   "id": "e92bd479-3b42-4079-bc47-a375a003b1f3",
   "metadata": {},
   "source": [
    "break statement"
   ]
  },
  {
   "cell_type": "code",
   "execution_count": null,
   "id": "d87563b4-e5a3-4025-839e-ef6cf4e4364b",
   "metadata": {},
   "outputs": [],
   "source": [
    "i = 0\n",
    "\n",
    "while i < 10:\n",
    "    print(i)\n",
    "    i += 1\n",
    "\n",
    "    if i==5:\n",
    "        break\n",
    "    "
   ]
  },
  {
   "cell_type": "code",
   "execution_count": null,
   "id": "62bc9337-7fd9-41c0-9606-5c31041af4b1",
   "metadata": {},
   "outputs": [],
   "source": [
    "for i in range (10):\n",
    "    print(i)\n",
    "    if i==5:\n",
    "        break"
   ]
  },
  {
   "cell_type": "code",
   "execution_count": null,
   "id": "c5e249e2-ec78-4595-99ba-d70c72d2b19c",
   "metadata": {},
   "outputs": [],
   "source": []
  }
 ],
 "metadata": {
  "kernelspec": {
   "display_name": "Python 3 (ipykernel)",
   "language": "python",
   "name": "python3"
  },
  "language_info": {
   "codemirror_mode": {
    "name": "ipython",
    "version": 3
   },
   "file_extension": ".py",
   "mimetype": "text/x-python",
   "name": "python",
   "nbconvert_exporter": "python",
   "pygments_lexer": "ipython3",
   "version": "3.13.3"
  }
 },
 "nbformat": 4,
 "nbformat_minor": 5
}
