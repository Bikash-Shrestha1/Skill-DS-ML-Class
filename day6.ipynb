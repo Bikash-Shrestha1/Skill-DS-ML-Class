{
 "cells": [
  {
   "cell_type": "code",
   "execution_count": 1,
   "id": "49a2b2ae-deb2-4715-a6b6-d1762a342678",
   "metadata": {},
   "outputs": [
    {
     "data": {
      "text/plain": [
       "bool"
      ]
     },
     "execution_count": 1,
     "metadata": {},
     "output_type": "execute_result"
    }
   ],
   "source": [
    "flag=True\n",
    "type (flag)"
   ]
  },
  {
   "cell_type": "code",
   "execution_count": 2,
   "id": "d75fc97a-d718-4a92-8d89-90bcc8819353",
   "metadata": {},
   "outputs": [],
   "source": [
    "a=5\n",
    "b=10.0\n",
    "\n",
    "c=b>a"
   ]
  },
  {
   "cell_type": "code",
   "execution_count": 3,
   "id": "dfa2a646-ae08-46a7-90da-2d6662a92717",
   "metadata": {},
   "outputs": [
    {
     "data": {
      "text/plain": [
       "True"
      ]
     },
     "execution_count": 3,
     "metadata": {},
     "output_type": "execute_result"
    }
   ],
   "source": [
    "c"
   ]
  },
  {
   "cell_type": "code",
   "execution_count": 4,
   "id": "2e44f4e1-5765-4bd4-85cc-d76487198188",
   "metadata": {},
   "outputs": [],
   "source": [
    "email = \"b@gmail.com\".endswith(\"gmail.com\")"
   ]
  },
  {
   "cell_type": "code",
   "execution_count": 5,
   "id": "adcd88c6-50c4-43bd-bd9c-b91e7e60036f",
   "metadata": {},
   "outputs": [
    {
     "data": {
      "text/plain": [
       "True"
      ]
     },
     "execution_count": 5,
     "metadata": {},
     "output_type": "execute_result"
    }
   ],
   "source": [
    "email"
   ]
  },
  {
   "cell_type": "code",
   "execution_count": 6,
   "id": "f7718657-5d0b-4ea8-8695-360634e277b8",
   "metadata": {},
   "outputs": [],
   "source": [
    "x=True\n",
    "y=False"
   ]
  },
  {
   "cell_type": "code",
   "execution_count": 7,
   "id": "90cb9f78-e887-4123-8bea-5ac16424bd82",
   "metadata": {},
   "outputs": [],
   "source": [
    "res= x and y"
   ]
  },
  {
   "cell_type": "code",
   "execution_count": 9,
   "id": "2e302510-e4a9-4cd5-9c0d-9fdda5d22afd",
   "metadata": {},
   "outputs": [
    {
     "data": {
      "text/plain": [
       "False"
      ]
     },
     "execution_count": 9,
     "metadata": {},
     "output_type": "execute_result"
    }
   ],
   "source": [
    "res"
   ]
  },
  {
   "cell_type": "code",
   "execution_count": 11,
   "id": "9a64a0a6-ce55-4c4e-a284-90d12b155408",
   "metadata": {},
   "outputs": [],
   "source": [
    "rest= x or y"
   ]
  },
  {
   "cell_type": "code",
   "execution_count": 12,
   "id": "27bb8159-a5f4-4552-8c12-b8b0afc8412c",
   "metadata": {},
   "outputs": [
    {
     "data": {
      "text/plain": [
       "True"
      ]
     },
     "execution_count": 12,
     "metadata": {},
     "output_type": "execute_result"
    }
   ],
   "source": [
    "rest"
   ]
  },
  {
   "cell_type": "code",
   "execution_count": 13,
   "id": "5a90ea75-9862-4c2f-af5e-46931c2e4f44",
   "metadata": {},
   "outputs": [
    {
     "data": {
      "text/plain": [
       "True"
      ]
     },
     "execution_count": 13,
     "metadata": {},
     "output_type": "execute_result"
    }
   ],
   "source": [
    "not y"
   ]
  },
  {
   "cell_type": "code",
   "execution_count": 14,
   "id": "1f36ebc0-f1cf-4788-bd94-7cf61692ed63",
   "metadata": {},
   "outputs": [
    {
     "data": {
      "text/plain": [
       "False"
      ]
     },
     "execution_count": 14,
     "metadata": {},
     "output_type": "execute_result"
    }
   ],
   "source": [
    "not x"
   ]
  },
  {
   "cell_type": "code",
   "execution_count": 16,
   "id": "44ce47a4-bc35-4e4e-9c40-d94df0d71350",
   "metadata": {},
   "outputs": [],
   "source": [
    "number = 0"
   ]
  },
  {
   "cell_type": "code",
   "execution_count": 17,
   "id": "06cb5b29-1ba3-4827-8375-78ec59cde077",
   "metadata": {},
   "outputs": [
    {
     "data": {
      "text/plain": [
       "False"
      ]
     },
     "execution_count": 17,
     "metadata": {},
     "output_type": "execute_result"
    }
   ],
   "source": [
    "bool(number)"
   ]
  },
  {
   "cell_type": "code",
   "execution_count": 18,
   "id": "e787214b-d8f3-4d11-aafa-65e504816dde",
   "metadata": {},
   "outputs": [
    {
     "data": {
      "text/plain": [
       "False"
      ]
     },
     "execution_count": 18,
     "metadata": {},
     "output_type": "execute_result"
    }
   ],
   "source": [
    "name=\"\"\n",
    "bool(name)"
   ]
  },
  {
   "cell_type": "code",
   "execution_count": 20,
   "id": "141d424c-71de-41fc-998b-574e29df1d2f",
   "metadata": {},
   "outputs": [
    {
     "data": {
      "text/plain": [
       "False"
      ]
     },
     "execution_count": 20,
     "metadata": {},
     "output_type": "execute_result"
    }
   ],
   "source": [
    "list=[]\n",
    "bool(list)"
   ]
  },
  {
   "cell_type": "code",
   "execution_count": 21,
   "id": "1a700afa-d769-44de-8f31-e754d70266d2",
   "metadata": {},
   "outputs": [
    {
     "data": {
      "text/plain": [
       "True"
      ]
     },
     "execution_count": 21,
     "metadata": {},
     "output_type": "execute_result"
    }
   ],
   "source": [
    "dd ={\"a\":1}\n",
    "bool(dd)"
   ]
  },
  {
   "cell_type": "code",
   "execution_count": null,
   "id": "68fb6f6c-a7e4-47d3-8ef3-dcf828fb8695",
   "metadata": {},
   "outputs": [],
   "source": []
  }
 ],
 "metadata": {
  "kernelspec": {
   "display_name": "Python 3 (ipykernel)",
   "language": "python",
   "name": "python3"
  },
  "language_info": {
   "codemirror_mode": {
    "name": "ipython",
    "version": 3
   },
   "file_extension": ".py",
   "mimetype": "text/x-python",
   "name": "python",
   "nbconvert_exporter": "python",
   "pygments_lexer": "ipython3",
   "version": "3.13.3"
  }
 },
 "nbformat": 4,
 "nbformat_minor": 5
}
